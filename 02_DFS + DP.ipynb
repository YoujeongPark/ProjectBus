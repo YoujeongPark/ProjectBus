{
 "cells": [
  {
   "cell_type": "code",
   "execution_count": 1,
   "metadata": {},
   "outputs": [],
   "source": [
    "# http://ejklike.github.io/2018/01/05/bfs-and-dfs.html"
   ]
  },
  {
   "cell_type": "code",
   "execution_count": 8,
   "metadata": {},
   "outputs": [],
   "source": [
    "graph = { 'A' : set(['C','B']), \n",
    "          'B' : set(['A','D','C','E']), \n",
    "          'C' : set(['A','D','B']), \n",
    "          'D' : set(['C','B','E']), \n",
    "          'E' : set(['D','B'])\n",
    "        }\n",
    "            "
   ]
  },
  {
   "cell_type": "code",
   "execution_count": 9,
   "metadata": {},
   "outputs": [],
   "source": [
    "def dfs(graph, start, goal):\n",
    "    stack = [(start, [start])]\n",
    "    result = []\n",
    "\n",
    "    while stack:\n",
    "        n, path = stack.pop()\n",
    "        if n == goal:\n",
    "            result.append(path)\n",
    "        else:\n",
    "            for m in graph[n] - set(path):\n",
    "                stack.append((m, path + [m]))\n",
    "    return result"
   ]
  },
  {
   "cell_type": "code",
   "execution_count": 10,
   "metadata": {},
   "outputs": [
    {
     "name": "stdout",
     "output_type": "stream",
     "text": [
      "[['A', 'C', 'B', 'E'], ['A', 'C', 'B', 'D', 'E'], ['A', 'C', 'D', 'B', 'E'], ['A', 'C', 'D', 'E'], ['A', 'B', 'C', 'D', 'E'], ['A', 'B', 'E'], ['A', 'B', 'D', 'E']]\n"
     ]
    }
   ],
   "source": [
    "results = dfs(graph,'A','E')\n",
    "print(dfs(graph,'A','E'))"
   ]
  },
  {
   "cell_type": "code",
   "execution_count": 11,
   "metadata": {},
   "outputs": [],
   "source": [
    "graph2 = { 'A' : {'C' : 3, 'B' : 4}, \n",
    "          'B' : {'A' : 3, 'D' :1, 'C':4, 'E' : 4},\n",
    "          'C' : {'A' : 4, 'D' : 3, 'B':4} ,\n",
    "          'D' : {'C' : 3, 'B' : 1, 'E' : 2 },\n",
    "          'E' : {'B' : 4, 'D' : 2}\n",
    "        }"
   ]
  },
  {
   "cell_type": "code",
   "execution_count": 12,
   "metadata": {},
   "outputs": [
    {
     "name": "stdout",
     "output_type": "stream",
     "text": [
      "['A', 'C', 'B', 'E']\n",
      "['A', 'C', 'B', 'D', 'E']\n",
      "['A', 'C', 'D', 'B', 'E']\n",
      "['A', 'C', 'D', 'E']\n",
      "['A', 'B', 'C', 'D', 'E']\n",
      "['A', 'B', 'E']\n",
      "['A', 'B', 'D', 'E']\n"
     ]
    }
   ],
   "source": [
    "for result in results:\n",
    "    print(result)\n",
    "    value2 = 0\n",
    "    \n",
    "    for v in range(0,len(result)-1):\n",
    "        vv = graph2[result[v]][result[v+1]]\n",
    "        value2 = value2 + vv\n",
    "    \n",
    "   \n",
    "    result.append(value2)"
   ]
  },
  {
   "cell_type": "code",
   "execution_count": 13,
   "metadata": {},
   "outputs": [
    {
     "data": {
      "text/plain": [
       "[['A', 'C', 'B', 'E', 11],\n",
       " ['A', 'C', 'B', 'D', 'E', 10],\n",
       " ['A', 'C', 'D', 'B', 'E', 11],\n",
       " ['A', 'C', 'D', 'E', 8],\n",
       " ['A', 'B', 'C', 'D', 'E', 13],\n",
       " ['A', 'B', 'E', 8],\n",
       " ['A', 'B', 'D', 'E', 7]]"
      ]
     },
     "execution_count": 13,
     "metadata": {},
     "output_type": "execute_result"
    }
   ],
   "source": [
    "results"
   ]
  },
  {
   "cell_type": "code",
   "execution_count": null,
   "metadata": {},
   "outputs": [],
   "source": []
  }
 ],
 "metadata": {
  "kernelspec": {
   "display_name": "py36",
   "language": "python",
   "name": "py36"
  },
  "language_info": {
   "codemirror_mode": {
    "name": "ipython",
    "version": 3
   },
   "file_extension": ".py",
   "mimetype": "text/x-python",
   "name": "python",
   "nbconvert_exporter": "python",
   "pygments_lexer": "ipython3",
   "version": "3.6.9"
  }
 },
 "nbformat": 4,
 "nbformat_minor": 2
}
