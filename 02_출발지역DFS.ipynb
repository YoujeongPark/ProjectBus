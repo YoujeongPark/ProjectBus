{
 "cells": [
  {
   "cell_type": "code",
   "execution_count": 1,
   "metadata": {},
   "outputs": [],
   "source": [
    "# -*- coding: 949 -*-\n",
    "import pandas as pd\n",
    "from collections import Counter\n",
    "import folium\n",
    "from folium.plugins import MarkerCluster, MiniMap\n",
    "from IPython.display import Image\n",
    "import math"
   ]
  },
  {
   "cell_type": "code",
   "execution_count": 2,
   "metadata": {},
   "outputs": [],
   "source": [
    "dfStart = pd.read_excel(\"서울시버스정류소좌표데이터(2020.03.06).xlsx\",sheet_name = \"출발\")"
   ]
  },
  {
   "cell_type": "code",
   "execution_count": 3,
   "metadata": {},
   "outputs": [
    {
     "data": {
      "text/html": [
       "<div>\n",
       "<style scoped>\n",
       "    .dataframe tbody tr th:only-of-type {\n",
       "        vertical-align: middle;\n",
       "    }\n",
       "\n",
       "    .dataframe tbody tr th {\n",
       "        vertical-align: top;\n",
       "    }\n",
       "\n",
       "    .dataframe thead th {\n",
       "        text-align: right;\n",
       "    }\n",
       "</style>\n",
       "<table border=\"1\" class=\"dataframe\">\n",
       "  <thead>\n",
       "    <tr style=\"text-align: right;\">\n",
       "      <th></th>\n",
       "      <th>표준ID</th>\n",
       "      <th>정류장번호</th>\n",
       "      <th>정류장명</th>\n",
       "      <th>X좌표</th>\n",
       "      <th>Y좌표</th>\n",
       "      <th>비고</th>\n",
       "    </tr>\n",
       "  </thead>\n",
       "  <tbody>\n",
       "    <tr>\n",
       "      <th>0</th>\n",
       "      <td>124000004</td>\n",
       "      <td>25104</td>\n",
       "      <td>고덕리엔파크1단지</td>\n",
       "      <td>127.170696</td>\n",
       "      <td>37.561365</td>\n",
       "      <td>NaN</td>\n",
       "    </tr>\n",
       "    <tr>\n",
       "      <th>1</th>\n",
       "      <td>124000006</td>\n",
       "      <td>25106</td>\n",
       "      <td>해뜨는주유소</td>\n",
       "      <td>127.170989</td>\n",
       "      <td>37.559757</td>\n",
       "      <td>NaN</td>\n",
       "    </tr>\n",
       "    <tr>\n",
       "      <th>2</th>\n",
       "      <td>124000009</td>\n",
       "      <td>25109</td>\n",
       "      <td>고덕주공3단지</td>\n",
       "      <td>127.172052</td>\n",
       "      <td>37.553467</td>\n",
       "      <td>NaN</td>\n",
       "    </tr>\n",
       "    <tr>\n",
       "      <th>3</th>\n",
       "      <td>124000031</td>\n",
       "      <td>25131</td>\n",
       "      <td>상일동역4번출구.고덕전통시장</td>\n",
       "      <td>127.168949</td>\n",
       "      <td>37.557111</td>\n",
       "      <td>NaN</td>\n",
       "    </tr>\n",
       "    <tr>\n",
       "      <th>4</th>\n",
       "      <td>124000033</td>\n",
       "      <td>25133</td>\n",
       "      <td>상일동역1번출구</td>\n",
       "      <td>127.164448</td>\n",
       "      <td>37.556588</td>\n",
       "      <td>NaN</td>\n",
       "    </tr>\n",
       "    <tr>\n",
       "      <th>5</th>\n",
       "      <td>124000035</td>\n",
       "      <td>25135</td>\n",
       "      <td>고덕그라시움</td>\n",
       "      <td>127.160832</td>\n",
       "      <td>37.556058</td>\n",
       "      <td>NaN</td>\n",
       "    </tr>\n",
       "    <tr>\n",
       "      <th>6</th>\n",
       "      <td>124000065</td>\n",
       "      <td>25165</td>\n",
       "      <td>상일동역2번출구</td>\n",
       "      <td>127.165125</td>\n",
       "      <td>37.557338</td>\n",
       "      <td>NaN</td>\n",
       "    </tr>\n",
       "    <tr>\n",
       "      <th>7</th>\n",
       "      <td>124000066</td>\n",
       "      <td>25166</td>\n",
       "      <td>상일동역2번출구</td>\n",
       "      <td>127.165424</td>\n",
       "      <td>37.557180</td>\n",
       "      <td>NaN</td>\n",
       "    </tr>\n",
       "    <tr>\n",
       "      <th>8</th>\n",
       "      <td>124000068</td>\n",
       "      <td>25168</td>\n",
       "      <td>고덕초등학교</td>\n",
       "      <td>127.165769</td>\n",
       "      <td>37.559983</td>\n",
       "      <td>NaN</td>\n",
       "    </tr>\n",
       "    <tr>\n",
       "      <th>9</th>\n",
       "      <td>124000070</td>\n",
       "      <td>25170</td>\n",
       "      <td>강덕초등학교.고덕그라시움</td>\n",
       "      <td>127.163152</td>\n",
       "      <td>37.560196</td>\n",
       "      <td>NaN</td>\n",
       "    </tr>\n",
       "    <tr>\n",
       "      <th>10</th>\n",
       "      <td>124000139</td>\n",
       "      <td>25250</td>\n",
       "      <td>고덕주공6단지상일여고</td>\n",
       "      <td>127.172061</td>\n",
       "      <td>37.550974</td>\n",
       "      <td>NaN</td>\n",
       "    </tr>\n",
       "    <tr>\n",
       "      <th>11</th>\n",
       "      <td>124000142</td>\n",
       "      <td>25253</td>\n",
       "      <td>상일동주민센터.롯데캐슬베네루체</td>\n",
       "      <td>127.168256</td>\n",
       "      <td>37.550289</td>\n",
       "      <td>NaN</td>\n",
       "    </tr>\n",
       "    <tr>\n",
       "      <th>12</th>\n",
       "      <td>124000403</td>\n",
       "      <td>25345</td>\n",
       "      <td>강명초등학교.고덕리엔파크3단지</td>\n",
       "      <td>127.173488</td>\n",
       "      <td>37.553937</td>\n",
       "      <td>NaN</td>\n",
       "    </tr>\n",
       "    <tr>\n",
       "      <th>13</th>\n",
       "      <td>124000412</td>\n",
       "      <td>25352</td>\n",
       "      <td>고덕리엔파크3단지서문</td>\n",
       "      <td>127.173848</td>\n",
       "      <td>37.551257</td>\n",
       "      <td>NaN</td>\n",
       "    </tr>\n",
       "    <tr>\n",
       "      <th>14</th>\n",
       "      <td>124000427</td>\n",
       "      <td>25365</td>\n",
       "      <td>고덕센트럴.고덕숲아이파크</td>\n",
       "      <td>127.165410</td>\n",
       "      <td>37.551012</td>\n",
       "      <td>NaN</td>\n",
       "    </tr>\n",
       "    <tr>\n",
       "      <th>15</th>\n",
       "      <td>124000425</td>\n",
       "      <td>25367</td>\n",
       "      <td>고현초등학교</td>\n",
       "      <td>127.165328</td>\n",
       "      <td>37.553041</td>\n",
       "      <td>NaN</td>\n",
       "    </tr>\n",
       "  </tbody>\n",
       "</table>\n",
       "</div>"
      ],
      "text/plain": [
       "         표준ID  정류장번호              정류장명         X좌표        Y좌표  비고\n",
       "0   124000004  25104         고덕리엔파크1단지  127.170696  37.561365 NaN\n",
       "1   124000006  25106            해뜨는주유소  127.170989  37.559757 NaN\n",
       "2   124000009  25109           고덕주공3단지  127.172052  37.553467 NaN\n",
       "3   124000031  25131   상일동역4번출구.고덕전통시장  127.168949  37.557111 NaN\n",
       "4   124000033  25133          상일동역1번출구  127.164448  37.556588 NaN\n",
       "5   124000035  25135            고덕그라시움  127.160832  37.556058 NaN\n",
       "6   124000065  25165          상일동역2번출구  127.165125  37.557338 NaN\n",
       "7   124000066  25166          상일동역2번출구  127.165424  37.557180 NaN\n",
       "8   124000068  25168            고덕초등학교  127.165769  37.559983 NaN\n",
       "9   124000070  25170     강덕초등학교.고덕그라시움  127.163152  37.560196 NaN\n",
       "10  124000139  25250       고덕주공6단지상일여고  127.172061  37.550974 NaN\n",
       "11  124000142  25253  상일동주민센터.롯데캐슬베네루체  127.168256  37.550289 NaN\n",
       "12  124000403  25345  강명초등학교.고덕리엔파크3단지  127.173488  37.553937 NaN\n",
       "13  124000412  25352       고덕리엔파크3단지서문  127.173848  37.551257 NaN\n",
       "14  124000427  25365     고덕센트럴.고덕숲아이파크  127.165410  37.551012 NaN\n",
       "15  124000425  25367            고현초등학교  127.165328  37.553041 NaN"
      ]
     },
     "execution_count": 3,
     "metadata": {},
     "output_type": "execute_result"
    }
   ],
   "source": [
    "dfStart"
   ]
  },
  {
   "cell_type": "code",
   "execution_count": 4,
   "metadata": {},
   "outputs": [
    {
     "data": {
      "text/plain": [
       "(16, 6)"
      ]
     },
     "execution_count": 4,
     "metadata": {},
     "output_type": "execute_result"
    }
   ],
   "source": [
    "dfStart.shape"
   ]
  },
  {
   "cell_type": "code",
   "execution_count": 5,
   "metadata": {},
   "outputs": [
    {
     "data": {
      "text/html": [
       "<div style=\"width:100%;\"><div style=\"position:relative;width:100%;height:0;padding-bottom:60%;\"><iframe src=\"about:blank\" style=\"position:absolute;width:100%;height:100%;left:0;top:0;border:none !important;\" data-html=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 onload=\"this.contentDocument.open();this.contentDocument.write(atob(this.getAttribute('data-html')));this.contentDocument.close();\" allowfullscreen webkitallowfullscreen mozallowfullscreen></iframe></div></div>"
      ],
      "text/plain": [
       "<folium.folium.Map at 0x21f050b05c8>"
      ]
     },
     "execution_count": 5,
     "metadata": {},
     "output_type": "execute_result"
    }
   ],
   "source": [
    "map_79on = folium.Map(location = [37.553501, 127.165342], zoom_start = 15.2)\n",
    "mc = MarkerCluster()\n",
    "\n",
    "for row in dfStart.itertuples():\n",
    "    mc.add_child(folium.Marker(location = [row.Y좌표, row.X좌표], popup = row.정류장번호))\n",
    "    map_79on.add_child(mc)\n",
    "map_79on"
   ]
  },
  {
   "cell_type": "code",
   "execution_count": 6,
   "metadata": {},
   "outputs": [],
   "source": [
    "map_79on.save(\"example.html\")"
   ]
  },
  {
   "cell_type": "code",
   "execution_count": 7,
   "metadata": {},
   "outputs": [
    {
     "data": {
      "text/html": [
       "<div>\n",
       "<style scoped>\n",
       "    .dataframe tbody tr th:only-of-type {\n",
       "        vertical-align: middle;\n",
       "    }\n",
       "\n",
       "    .dataframe tbody tr th {\n",
       "        vertical-align: top;\n",
       "    }\n",
       "\n",
       "    .dataframe thead th {\n",
       "        text-align: right;\n",
       "    }\n",
       "</style>\n",
       "<table border=\"1\" class=\"dataframe\">\n",
       "  <thead>\n",
       "    <tr style=\"text-align: right;\">\n",
       "      <th></th>\n",
       "      <th>표준ID</th>\n",
       "      <th>정류장번호</th>\n",
       "      <th>정류장명</th>\n",
       "      <th>X좌표</th>\n",
       "      <th>Y좌표</th>\n",
       "      <th>비고</th>\n",
       "    </tr>\n",
       "  </thead>\n",
       "  <tbody>\n",
       "    <tr>\n",
       "      <th>0</th>\n",
       "      <td>124000004</td>\n",
       "      <td>25104</td>\n",
       "      <td>고덕리엔파크1단지</td>\n",
       "      <td>127.170696</td>\n",
       "      <td>37.561365</td>\n",
       "      <td>NaN</td>\n",
       "    </tr>\n",
       "    <tr>\n",
       "      <th>1</th>\n",
       "      <td>124000006</td>\n",
       "      <td>25106</td>\n",
       "      <td>해뜨는주유소</td>\n",
       "      <td>127.170989</td>\n",
       "      <td>37.559757</td>\n",
       "      <td>NaN</td>\n",
       "    </tr>\n",
       "    <tr>\n",
       "      <th>2</th>\n",
       "      <td>124000009</td>\n",
       "      <td>25109</td>\n",
       "      <td>고덕주공3단지</td>\n",
       "      <td>127.172052</td>\n",
       "      <td>37.553467</td>\n",
       "      <td>NaN</td>\n",
       "    </tr>\n",
       "    <tr>\n",
       "      <th>3</th>\n",
       "      <td>124000031</td>\n",
       "      <td>25131</td>\n",
       "      <td>상일동역4번출구.고덕전통시장</td>\n",
       "      <td>127.168949</td>\n",
       "      <td>37.557111</td>\n",
       "      <td>NaN</td>\n",
       "    </tr>\n",
       "    <tr>\n",
       "      <th>4</th>\n",
       "      <td>124000033</td>\n",
       "      <td>25133</td>\n",
       "      <td>상일동역1번출구</td>\n",
       "      <td>127.164448</td>\n",
       "      <td>37.556588</td>\n",
       "      <td>NaN</td>\n",
       "    </tr>\n",
       "    <tr>\n",
       "      <th>5</th>\n",
       "      <td>124000035</td>\n",
       "      <td>25135</td>\n",
       "      <td>고덕그라시움</td>\n",
       "      <td>127.160832</td>\n",
       "      <td>37.556058</td>\n",
       "      <td>NaN</td>\n",
       "    </tr>\n",
       "    <tr>\n",
       "      <th>6</th>\n",
       "      <td>124000065</td>\n",
       "      <td>25165</td>\n",
       "      <td>상일동역2번출구</td>\n",
       "      <td>127.165125</td>\n",
       "      <td>37.557338</td>\n",
       "      <td>NaN</td>\n",
       "    </tr>\n",
       "    <tr>\n",
       "      <th>7</th>\n",
       "      <td>124000066</td>\n",
       "      <td>25166</td>\n",
       "      <td>상일동역2번출구</td>\n",
       "      <td>127.165424</td>\n",
       "      <td>37.557180</td>\n",
       "      <td>NaN</td>\n",
       "    </tr>\n",
       "    <tr>\n",
       "      <th>8</th>\n",
       "      <td>124000068</td>\n",
       "      <td>25168</td>\n",
       "      <td>고덕초등학교</td>\n",
       "      <td>127.165769</td>\n",
       "      <td>37.559983</td>\n",
       "      <td>NaN</td>\n",
       "    </tr>\n",
       "    <tr>\n",
       "      <th>9</th>\n",
       "      <td>124000070</td>\n",
       "      <td>25170</td>\n",
       "      <td>강덕초등학교.고덕그라시움</td>\n",
       "      <td>127.163152</td>\n",
       "      <td>37.560196</td>\n",
       "      <td>NaN</td>\n",
       "    </tr>\n",
       "    <tr>\n",
       "      <th>10</th>\n",
       "      <td>124000139</td>\n",
       "      <td>25250</td>\n",
       "      <td>고덕주공6단지상일여고</td>\n",
       "      <td>127.172061</td>\n",
       "      <td>37.550974</td>\n",
       "      <td>NaN</td>\n",
       "    </tr>\n",
       "    <tr>\n",
       "      <th>11</th>\n",
       "      <td>124000142</td>\n",
       "      <td>25253</td>\n",
       "      <td>상일동주민센터.롯데캐슬베네루체</td>\n",
       "      <td>127.168256</td>\n",
       "      <td>37.550289</td>\n",
       "      <td>NaN</td>\n",
       "    </tr>\n",
       "    <tr>\n",
       "      <th>12</th>\n",
       "      <td>124000403</td>\n",
       "      <td>25345</td>\n",
       "      <td>강명초등학교.고덕리엔파크3단지</td>\n",
       "      <td>127.173488</td>\n",
       "      <td>37.553937</td>\n",
       "      <td>NaN</td>\n",
       "    </tr>\n",
       "    <tr>\n",
       "      <th>13</th>\n",
       "      <td>124000412</td>\n",
       "      <td>25352</td>\n",
       "      <td>고덕리엔파크3단지서문</td>\n",
       "      <td>127.173848</td>\n",
       "      <td>37.551257</td>\n",
       "      <td>NaN</td>\n",
       "    </tr>\n",
       "    <tr>\n",
       "      <th>14</th>\n",
       "      <td>124000427</td>\n",
       "      <td>25365</td>\n",
       "      <td>고덕센트럴.고덕숲아이파크</td>\n",
       "      <td>127.165410</td>\n",
       "      <td>37.551012</td>\n",
       "      <td>NaN</td>\n",
       "    </tr>\n",
       "    <tr>\n",
       "      <th>15</th>\n",
       "      <td>124000425</td>\n",
       "      <td>25367</td>\n",
       "      <td>고현초등학교</td>\n",
       "      <td>127.165328</td>\n",
       "      <td>37.553041</td>\n",
       "      <td>NaN</td>\n",
       "    </tr>\n",
       "  </tbody>\n",
       "</table>\n",
       "</div>"
      ],
      "text/plain": [
       "         표준ID  정류장번호              정류장명         X좌표        Y좌표  비고\n",
       "0   124000004  25104         고덕리엔파크1단지  127.170696  37.561365 NaN\n",
       "1   124000006  25106            해뜨는주유소  127.170989  37.559757 NaN\n",
       "2   124000009  25109           고덕주공3단지  127.172052  37.553467 NaN\n",
       "3   124000031  25131   상일동역4번출구.고덕전통시장  127.168949  37.557111 NaN\n",
       "4   124000033  25133          상일동역1번출구  127.164448  37.556588 NaN\n",
       "5   124000035  25135            고덕그라시움  127.160832  37.556058 NaN\n",
       "6   124000065  25165          상일동역2번출구  127.165125  37.557338 NaN\n",
       "7   124000066  25166          상일동역2번출구  127.165424  37.557180 NaN\n",
       "8   124000068  25168            고덕초등학교  127.165769  37.559983 NaN\n",
       "9   124000070  25170     강덕초등학교.고덕그라시움  127.163152  37.560196 NaN\n",
       "10  124000139  25250       고덕주공6단지상일여고  127.172061  37.550974 NaN\n",
       "11  124000142  25253  상일동주민센터.롯데캐슬베네루체  127.168256  37.550289 NaN\n",
       "12  124000403  25345  강명초등학교.고덕리엔파크3단지  127.173488  37.553937 NaN\n",
       "13  124000412  25352       고덕리엔파크3단지서문  127.173848  37.551257 NaN\n",
       "14  124000427  25365     고덕센트럴.고덕숲아이파크  127.165410  37.551012 NaN\n",
       "15  124000425  25367            고현초등학교  127.165328  37.553041 NaN"
      ]
     },
     "execution_count": 7,
     "metadata": {},
     "output_type": "execute_result"
    }
   ],
   "source": [
    "dfStartCopy = dfStart.copy()\n",
    "dfStartCopy"
   ]
  },
  {
   "cell_type": "code",
   "execution_count": 8,
   "metadata": {},
   "outputs": [],
   "source": [
    "dfStartCopy['정류장번호'] = dfStartCopy['정류장번호'].astype(str)"
   ]
  },
  {
   "cell_type": "code",
   "execution_count": 9,
   "metadata": {},
   "outputs": [],
   "source": [
    "def distance(x1,x2,y1,y2):\n",
    "    return math.sqrt((x1-x2)**2 + (y1-y2)**2)"
   ]
  },
  {
   "cell_type": "code",
   "execution_count": 10,
   "metadata": {},
   "outputs": [
    {
     "data": {
      "text/plain": [
       "3.1622776601683795"
      ]
     },
     "execution_count": 10,
     "metadata": {},
     "output_type": "execute_result"
    }
   ],
   "source": [
    "distance(2,3,1,4)"
   ]
  },
  {
   "cell_type": "code",
   "execution_count": 11,
   "metadata": {},
   "outputs": [
    {
     "data": {
      "text/plain": [
       "16"
      ]
     },
     "execution_count": 11,
     "metadata": {},
     "output_type": "execute_result"
    }
   ],
   "source": [
    "dfStartCopy.shape[0]"
   ]
  },
  {
   "cell_type": "code",
   "execution_count": 12,
   "metadata": {},
   "outputs": [],
   "source": [
    "graph = {}\n",
    "graph2 = {}\n",
    "for i in range(0,dfStartCopy.shape[0]):\n",
    "    graph2[str(dfStartCopy['정류장번호'][i])] = {}\n",
    "    l = []\n",
    "    for j in range(0, dfStartCopy.shape[0]):\n",
    "        d = distance(dfStartCopy['X좌표'][i],dfStartCopy['X좌표'][j], dfStartCopy['Y좌표'][i],dfStartCopy['Y좌표'][j])\n",
    "        if d < float(0.007) :\n",
    "            graph2[str(dfStartCopy['정류장번호'][i])][str(dfStartCopy['정류장번호'][j])] = distance(dfStartCopy['X좌표'][i],dfStartCopy['X좌표'][j], dfStartCopy['Y좌표'][i],dfStartCopy['Y좌표'][j])\n",
    "            l.append(str(dfStartCopy['정류장번호'][j]))\n",
    "    \n",
    "    graph[str(dfStartCopy['정류장번호'][i])] = set(l)"
   ]
  },
  {
   "cell_type": "code",
   "execution_count": 13,
   "metadata": {},
   "outputs": [
    {
     "data": {
      "text/plain": [
       "{'25104': {'25104': 0.0,\n",
       "  '25106': 0.0016344763687536118,\n",
       "  '25131': 0.004599320061787593,\n",
       "  '25165': 0.006873880817284204,\n",
       "  '25166': 0.006731100572770612,\n",
       "  '25168': 0.005117201680246847},\n",
       " '25106': {'25104': 0.0016344763687536118,\n",
       "  '25106': 0.0,\n",
       "  '25109': 0.006379436892596387,\n",
       "  '25131': 0.0033417006831728074,\n",
       "  '25165': 0.006343156388012331,\n",
       "  '25166': 0.006132726390987507,\n",
       "  '25168': 0.00522498671017539,\n",
       "  '25345': 0.006334004469455358},\n",
       " '25109': {'25106': 0.006379436892596387,\n",
       "  '25109': 0.0,\n",
       "  '25131': 0.0047861067199168736,\n",
       "  '25250': 0.0024924543892114416,\n",
       "  '25253': 0.004950249650808218,\n",
       "  '25345': 0.0015112078300899832,\n",
       "  '25352': 0.0028477568892159404,\n",
       "  '25367': 0.00673741504537885},\n",
       " '25131': {'25104': 0.004599320061787593,\n",
       "  '25106': 0.0033417006831728074,\n",
       "  '25109': 0.0047861067199168736,\n",
       "  '25131': 0.0,\n",
       "  '25133': 0.00453115843320521,\n",
       "  '25165': 0.0038301637177416054,\n",
       "  '25166': 0.003525372129507665,\n",
       "  '25168': 0.004285095172497569,\n",
       "  '25170': 0.006566550095427598,\n",
       "  '25250': 0.006880343795877257,\n",
       "  '25253': 0.006856998900094493,\n",
       "  '25345': 0.005538800261066077,\n",
       "  '25367': 0.0054471626169918875},\n",
       " '25133': {'25131': 0.00453115843320521,\n",
       "  '25133': 0.0,\n",
       "  '25135': 0.0036545021350369,\n",
       "  '25165': 0.0010107006047284373,\n",
       "  '25166': 0.0011417739794851067,\n",
       "  '25168': 0.003643090483136863,\n",
       "  '25170': 0.0038335294416132902,\n",
       "  '25365': 0.005658893623872197,\n",
       "  '25367': 0.0036545668861069024},\n",
       " '25135': {'25133': 0.0036545021350369,\n",
       "  '25135': 0.0,\n",
       "  '25165': 0.0044801747967350754,\n",
       "  '25166': 0.004727248883010401,\n",
       "  '25168': 0.006307372934329561,\n",
       "  '25170': 0.00474433712112663,\n",
       "  '25365': 0.006813704747251076,\n",
       "  '25367': 0.005414217818588409},\n",
       " '25165': {'25104': 0.006873880817284204,\n",
       "  '25106': 0.006343156388012331,\n",
       "  '25131': 0.0038301637177416054,\n",
       "  '25133': 0.0010107006047284373,\n",
       "  '25135': 0.0044801747967350754,\n",
       "  '25165': 0.0,\n",
       "  '25166': 0.00033787040462499794,\n",
       "  '25168': 0.0027222810105462544,\n",
       "  '25170': 0.003472928780251406,\n",
       "  '25365': 0.0063328010881480564,\n",
       "  '25367': 0.004301767370310223},\n",
       " '25166': {'25104': 0.006731100572770612,\n",
       "  '25106': 0.006132726390987507,\n",
       "  '25131': 0.003525372129507665,\n",
       "  '25133': 0.0011417739794851067,\n",
       "  '25135': 0.004727248883010401,\n",
       "  '25165': 0.00033787040462499794,\n",
       "  '25166': 0.0,\n",
       "  '25168': 0.002824105730546269,\n",
       "  '25170': 0.0037757906848033007,\n",
       "  '25365': 0.006168515558091273,\n",
       "  '25367': 0.004140239651206259},\n",
       " '25168': {'25104': 0.005117201680246847,\n",
       "  '25106': 0.00522498671017539,\n",
       "  '25131': 0.004285095172497569,\n",
       "  '25133': 0.003643090483136863,\n",
       "  '25135': 0.006307372934329561,\n",
       "  '25165': 0.0027222810105462544,\n",
       "  '25166': 0.002824105730546269,\n",
       "  '25168': 0.0,\n",
       "  '25170': 0.00262545943101287,\n",
       "  '25367': 0.00695608067153658},\n",
       " '25170': {'25131': 0.006566550095427598,\n",
       "  '25133': 0.0038335294416132902,\n",
       "  '25135': 0.00474433712112663,\n",
       "  '25165': 0.003472928780251406,\n",
       "  '25166': 0.0037757906848033007,\n",
       "  '25168': 0.00262545943101287,\n",
       "  '25170': 0.0},\n",
       " '25250': {'25109': 0.0024924543892114416,\n",
       "  '25131': 0.006880343795877257,\n",
       "  '25250': 0.0,\n",
       "  '25253': 0.0038656279599466824,\n",
       "  '25345': 0.003288391962552328,\n",
       "  '25352': 0.0018100086968993439,\n",
       "  '25365': 0.006650382072898969},\n",
       " '25253': {'25109': 0.004950249650808218,\n",
       "  '25131': 0.006856998900094493,\n",
       "  '25250': 0.0038656279599466824,\n",
       "  '25253': 0.0,\n",
       "  '25345': 0.006377981107394619,\n",
       "  '25352': 0.005675356921887755,\n",
       "  '25365': 0.002936367980442201,\n",
       "  '25367': 0.004019060636984486},\n",
       " '25345': {'25106': 0.006334004469455358,\n",
       "  '25109': 0.0015112078300899832,\n",
       "  '25131': 0.005538800261066077,\n",
       "  '25250': 0.003288391962552328,\n",
       "  '25253': 0.006377981107394619,\n",
       "  '25345': 0.0,\n",
       "  '25352': 0.0027036220466381488},\n",
       " '25352': {'25109': 0.0028477568892159404,\n",
       "  '25250': 0.0018100086968993439,\n",
       "  '25253': 0.005675356921887755,\n",
       "  '25345': 0.0027036220466381488,\n",
       "  '25352': 0.0},\n",
       " '25365': {'25133': 0.005658893623872197,\n",
       "  '25135': 0.006813704747251076,\n",
       "  '25165': 0.0063328010881480564,\n",
       "  '25166': 0.006168515558091273,\n",
       "  '25250': 0.006650382072898969,\n",
       "  '25253': 0.002936367980442201,\n",
       "  '25365': 0.0,\n",
       "  '25367': 0.0020310618215076187},\n",
       " '25367': {'25109': 0.00673741504537885,\n",
       "  '25131': 0.0054471626169918875,\n",
       "  '25133': 0.0036545668861069024,\n",
       "  '25135': 0.005414217818588409,\n",
       "  '25165': 0.004301767370310223,\n",
       "  '25166': 0.004140239651206259,\n",
       "  '25168': 0.00695608067153658,\n",
       "  '25253': 0.004019060636984486,\n",
       "  '25365': 0.0020310618215076187,\n",
       "  '25367': 0.0}}"
      ]
     },
     "execution_count": 13,
     "metadata": {},
     "output_type": "execute_result"
    }
   ],
   "source": [
    "graph2"
   ]
  },
  {
   "cell_type": "code",
   "execution_count": 14,
   "metadata": {},
   "outputs": [
    {
     "data": {
      "text/plain": [
       "{'25104': {'25104', '25106', '25131', '25165', '25166', '25168'},\n",
       " '25106': {'25104',\n",
       "  '25106',\n",
       "  '25109',\n",
       "  '25131',\n",
       "  '25165',\n",
       "  '25166',\n",
       "  '25168',\n",
       "  '25345'},\n",
       " '25109': {'25106',\n",
       "  '25109',\n",
       "  '25131',\n",
       "  '25250',\n",
       "  '25253',\n",
       "  '25345',\n",
       "  '25352',\n",
       "  '25367'},\n",
       " '25131': {'25104',\n",
       "  '25106',\n",
       "  '25109',\n",
       "  '25131',\n",
       "  '25133',\n",
       "  '25165',\n",
       "  '25166',\n",
       "  '25168',\n",
       "  '25170',\n",
       "  '25250',\n",
       "  '25253',\n",
       "  '25345',\n",
       "  '25367'},\n",
       " '25133': {'25131',\n",
       "  '25133',\n",
       "  '25135',\n",
       "  '25165',\n",
       "  '25166',\n",
       "  '25168',\n",
       "  '25170',\n",
       "  '25365',\n",
       "  '25367'},\n",
       " '25135': {'25133',\n",
       "  '25135',\n",
       "  '25165',\n",
       "  '25166',\n",
       "  '25168',\n",
       "  '25170',\n",
       "  '25365',\n",
       "  '25367'},\n",
       " '25165': {'25104',\n",
       "  '25106',\n",
       "  '25131',\n",
       "  '25133',\n",
       "  '25135',\n",
       "  '25165',\n",
       "  '25166',\n",
       "  '25168',\n",
       "  '25170',\n",
       "  '25365',\n",
       "  '25367'},\n",
       " '25166': {'25104',\n",
       "  '25106',\n",
       "  '25131',\n",
       "  '25133',\n",
       "  '25135',\n",
       "  '25165',\n",
       "  '25166',\n",
       "  '25168',\n",
       "  '25170',\n",
       "  '25365',\n",
       "  '25367'},\n",
       " '25168': {'25104',\n",
       "  '25106',\n",
       "  '25131',\n",
       "  '25133',\n",
       "  '25135',\n",
       "  '25165',\n",
       "  '25166',\n",
       "  '25168',\n",
       "  '25170',\n",
       "  '25367'},\n",
       " '25170': {'25131', '25133', '25135', '25165', '25166', '25168', '25170'},\n",
       " '25250': {'25109', '25131', '25250', '25253', '25345', '25352', '25365'},\n",
       " '25253': {'25109',\n",
       "  '25131',\n",
       "  '25250',\n",
       "  '25253',\n",
       "  '25345',\n",
       "  '25352',\n",
       "  '25365',\n",
       "  '25367'},\n",
       " '25345': {'25106', '25109', '25131', '25250', '25253', '25345', '25352'},\n",
       " '25352': {'25109', '25250', '25253', '25345', '25352'},\n",
       " '25365': {'25133',\n",
       "  '25135',\n",
       "  '25165',\n",
       "  '25166',\n",
       "  '25250',\n",
       "  '25253',\n",
       "  '25365',\n",
       "  '25367'},\n",
       " '25367': {'25109',\n",
       "  '25131',\n",
       "  '25133',\n",
       "  '25135',\n",
       "  '25165',\n",
       "  '25166',\n",
       "  '25168',\n",
       "  '25253',\n",
       "  '25365',\n",
       "  '25367'}}"
      ]
     },
     "execution_count": 14,
     "metadata": {},
     "output_type": "execute_result"
    }
   ],
   "source": [
    "graph"
   ]
  },
  {
   "cell_type": "code",
   "execution_count": 15,
   "metadata": {},
   "outputs": [],
   "source": [
    "def dfs(graph, start, goal):\n",
    "    stack = [(start, [start])]\n",
    "    result = []\n",
    "\n",
    "    while stack:\n",
    "        n, path = stack.pop()\n",
    "        if n == goal:\n",
    "            if len(path) == 16:\n",
    "                result.append(path)\n",
    "        else:\n",
    "            for m in graph[n] - set(path):\n",
    "                stack.append((m, path + [m]))\n",
    "                \n",
    "    return result"
   ]
  },
  {
   "cell_type": "code",
   "execution_count": 16,
   "metadata": {},
   "outputs": [],
   "source": [
    "results = dfs(graph,'25170','25352')"
   ]
  },
  {
   "cell_type": "code",
   "execution_count": 17,
   "metadata": {},
   "outputs": [],
   "source": [
    "for result in results:\n",
    "    value2 = 0\n",
    "    #print(len(result))\n",
    "    for v in range(0,len(result)-1):\n",
    "        vv = graph2[result[v]][result[v+1]]\n",
    "        value2 = value2 + vv\n",
    "        #print(value2)\n",
    "    \n",
    "   \n",
    "    result.append(str(value2))"
   ]
  },
  {
   "cell_type": "code",
   "execution_count": 18,
   "metadata": {},
   "outputs": [
    {
     "name": "stdout",
     "output_type": "stream",
     "text": [
      "2082436\n",
      "['25170', '25166', '25367', '25253', '25131', '25133', '25365', '25165', '25135', '25168', '25104', '25106', '25345', '25250', '25109', '25352', '0.06781677650881418']\n"
     ]
    }
   ],
   "source": [
    "print(len(results))\n",
    "print(results[0])"
   ]
  },
  {
   "cell_type": "markdown",
   "metadata": {},
   "source": [
    "# 최소값 찾기 "
   ]
  },
  {
   "cell_type": "code",
   "execution_count": 19,
   "metadata": {},
   "outputs": [
    {
     "data": {
      "text/plain": [
       "'0.042201843283508615'"
      ]
     },
     "execution_count": 19,
     "metadata": {},
     "output_type": "execute_result"
    }
   ],
   "source": [
    "minList = []\n",
    "for i in range(0,len(results)):\n",
    "    minList.append(results[i][len(results[i])-1])\n",
    "min(minList)"
   ]
  },
  {
   "cell_type": "code",
   "execution_count": 20,
   "metadata": {},
   "outputs": [
    {
     "data": {
      "text/plain": [
       "1739189"
      ]
     },
     "execution_count": 20,
     "metadata": {},
     "output_type": "execute_result"
    }
   ],
   "source": [
    "minList.index(min(minList))"
   ]
  },
  {
   "cell_type": "code",
   "execution_count": 21,
   "metadata": {},
   "outputs": [
    {
     "name": "stdout",
     "output_type": "stream",
     "text": [
      "['25170', '25168', '25104', '25106', '25131', '25166', '25165', '25133', '25135', '25367', '25365', '25253', '25250', '25109', '25345', '25352', '0.042201843283508615']\n",
      "17\n"
     ]
    }
   ],
   "source": [
    "finalResult =results[minList.index(min(minList))]\n",
    "print(finalResult)\n",
    "print(len(finalResult))"
   ]
  },
  {
   "cell_type": "markdown",
   "metadata": {},
   "source": [
    "#  최소값 지도로 나타내기 "
   ]
  },
  {
   "cell_type": "code",
   "execution_count": 60,
   "metadata": {},
   "outputs": [],
   "source": [
    "lineList = []\n",
    "for i in range(0,len(finalResult)-1):\n",
    "    n = list(dfStartCopy['정류장번호']).index(finalResult[i])\n",
    "    t = (finalResult[i], dfStart['Y좌표'][n],dfStart['X좌표'][n])\n",
    "    lineList.append(t)\n",
    "    \n",
    "lats = [x[1] for x in lineList]\n",
    "lons = [x[2] for x in lineList]\n",
    "coordinates = zip(lats, lons)"
   ]
  },
  {
   "cell_type": "code",
   "execution_count": 61,
   "metadata": {},
   "outputs": [
    {
     "data": {
      "text/plain": [
       "16"
      ]
     },
     "execution_count": 61,
     "metadata": {},
     "output_type": "execute_result"
    }
   ],
   "source": [
    "len(lats)"
   ]
  },
  {
   "cell_type": "code",
   "execution_count": 64,
   "metadata": {},
   "outputs": [
    {
     "data": {
      "text/plain": [
       "[37.560196070399996,\n",
       " 37.5599831421,\n",
       " 37.561365,\n",
       " 37.559757,\n",
       " 37.5571105589,\n",
       " 37.5571801903,\n",
       " 37.5573380664,\n",
       " 37.556588091799995,\n",
       " 37.5560578309,\n",
       " 37.5530410685,\n",
       " 37.5510116896,\n",
       " 37.5502885957,\n",
       " 37.5509742526,\n",
       " 37.5534666908,\n",
       " 37.5539367623,\n",
       " 37.5512572809]"
      ]
     },
     "execution_count": 64,
     "metadata": {},
     "output_type": "execute_result"
    }
   ],
   "source": [
    "lats"
   ]
  },
  {
   "cell_type": "code",
   "execution_count": 63,
   "metadata": {
    "scrolled": true
   },
   "outputs": [
    {
     "name": "stderr",
     "output_type": "stream",
     "text": [
      "C:\\Aconda3\\envs\\test1\\lib\\site-packages\\ipykernel_launcher.py:4: FutureWarning: Method `add_children` is deprecated. Please use `add_child` instead.\n",
      "  after removing the cwd from sys.path.\n"
     ]
    },
    {
     "data": {
      "text/html": [
       "<div style=\"width:100%;\"><div style=\"position:relative;width:100%;height:0;padding-bottom:60%;\"><iframe src=\"about:blank\" style=\"position:absolute;width:100%;height:100%;left:0;top:0;border:none !important;\" data-html=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 onload=\"this.contentDocument.open();this.contentDocument.write(atob(this.getAttribute('data-html')));this.contentDocument.close();\" allowfullscreen webkitallowfullscreen mozallowfullscreen></iframe></div></div>"
      ],
      "text/plain": [
       "<folium.folium.Map at 0x21f331fc148>"
      ]
     },
     "execution_count": 63,
     "metadata": {},
     "output_type": "execute_result"
    }
   ],
   "source": [
    "m = folium.Map(location=[37.553501, 127.165342], zoom_start=15.2)\n",
    "# Create the map with the appoximate location of San Andreas Fault\n",
    "SAF=folium.PolyLine(locations=coordinates,weight=5,color = 'red')\n",
    "m.add_children(SAF)"
   ]
  },
  {
   "cell_type": "code",
   "execution_count": 66,
   "metadata": {},
   "outputs": [
    {
     "data": {
      "text/html": [
       "<div style=\"width:100%;\"><div style=\"position:relative;width:100%;height:0;padding-bottom:60%;\"><iframe src=\"about:blank\" style=\"position:absolute;width:100%;height:100%;left:0;top:0;border:none !important;\" data-html=PCFET0NUWVBFIGh0bWw+CjxoZWFkPiAgICAKICAgIDxtZXRhIGh0dHAtZXF1aXY9ImNvbnRlbnQtdHlwZSIgY29udGVudD0idGV4dC9odG1sOyBjaGFyc2V0PVVURi04IiAvPgogICAgCiAgICAgICAgPHNjcmlwdD4KICAgICAgICAgICAgTF9OT19UT1VDSCA9IGZhbHNlOwogICAgICAgICAgICBMX0RJU0FCTEVfM0QgPSBmYWxzZTsKICAgICAgICA8L3NjcmlwdD4KICAgIAogICAgPHNjcmlwdCBzcmM9Imh0dHBzOi8vY2RuLmpzZGVsaXZyLm5ldC9ucG0vbGVhZmxldEAxLjUuMS9kaXN0L2xlYWZsZXQuanMiPjwvc2NyaXB0PgogICAgPHNjcmlwdCBzcmM9Imh0dHBzOi8vY29kZS5qcXVlcnkuY29tL2pxdWVyeS0xLjEyLjQubWluLmpzIj48L3NjcmlwdD4KICAgIDxzY3JpcHQgc3JjPSJodHRwczovL21heGNkbi5ib290c3RyYXBjZG4uY29tL2Jvb3RzdHJhcC8zLjIuMC9qcy9ib290c3RyYXAubWluLmpzIj48L3NjcmlwdD4KICAgIDxzY3JpcHQgc3JjPSJodHRwczovL2NkbmpzLmNsb3VkZmxhcmUuY29tL2FqYXgvbGlicy9MZWFmbGV0LmF3ZXNvbWUtbWFya2Vycy8yLjAuMi9sZWFmbGV0LmF3ZXNvbWUtbWFya2Vycy5qcyI+PC9zY3JpcHQ+CiAgICA8bGluayByZWw9InN0eWxlc2hlZXQiIGhyZWY9Imh0dHBzOi8vY2RuLmpzZGVsaXZyLm5ldC9ucG0vbGVhZmxldEAxLjUuMS9kaXN0L2xlYWZsZXQuY3NzIi8+CiAgICA8bGluayByZWw9InN0eWxlc2hlZXQiIGhyZWY9Imh0dHBzOi8vbWF4Y2RuLmJvb3RzdHJhcGNkbi5jb20vYm9vdHN0cmFwLzMuMi4wL2Nzcy9ib290c3RyYXAubWluLmNzcyIvPgogICAgPGxpbmsgcmVsPSJzdHlsZXNoZWV0IiBocmVmPSJodHRwczovL21heGNkbi5ib290c3RyYXBjZG4uY29tL2Jvb3RzdHJhcC8zLjIuMC9jc3MvYm9vdHN0cmFwLXRoZW1lLm1pbi5jc3MiLz4KICAgIDxsaW5rIHJlbD0ic3R5bGVzaGVldCIgaHJlZj0iaHR0cHM6Ly9tYXhjZG4uYm9vdHN0cmFwY2RuLmNvbS9mb250LWF3ZXNvbWUvNC42LjMvY3NzL2ZvbnQtYXdlc29tZS5taW4uY3NzIi8+CiAgICA8bGluayByZWw9InN0eWxlc2hlZXQiIGhyZWY9Imh0dHBzOi8vY2RuanMuY2xvdWRmbGFyZS5jb20vYWpheC9saWJzL0xlYWZsZXQuYXdlc29tZS1tYXJrZXJzLzIuMC4yL2xlYWZsZXQuYXdlc29tZS1tYXJrZXJzLmNzcyIvPgogICAgPGxpbmsgcmVsPSJzdHlsZXNoZWV0IiBocmVmPSJodHRwczovL3Jhd2Nkbi5naXRoYWNrLmNvbS9weXRob24tdmlzdWFsaXphdGlvbi9mb2xpdW0vbWFzdGVyL2ZvbGl1bS90ZW1wbGF0ZXMvbGVhZmxldC5hd2Vzb21lLnJvdGF0ZS5jc3MiLz4KICAgIDxzdHlsZT5odG1sLCBib2R5IHt3aWR0aDogMTAwJTtoZWlnaHQ6IDEwMCU7bWFyZ2luOiAwO3BhZGRpbmc6IDA7fTwvc3R5bGU+CiAgICA8c3R5bGU+I21hcCB7cG9zaXRpb246YWJzb2x1dGU7dG9wOjA7Ym90dG9tOjA7cmlnaHQ6MDtsZWZ0OjA7fTwvc3R5bGU+CiAgICAKICAgICAgICAgICAgPG1ldGEgbmFtZT0idmlld3BvcnQiIGNvbnRlbnQ9IndpZHRoPWRldmljZS13aWR0aCwKICAgICAgICAgICAgICAgIGluaXRpYWwtc2NhbGU9MS4wLCBtYXhpbXVtLXNjYWxlPTEuMCwgdXNlci1zY2FsYWJsZT1ubyIgLz4KICAgICAgICAgICAgPHN0eWxlPgogICAgICAgICAgICAgICAgI21hcF83YmE3NmVjNTRlZGM0MjZhOTk2YTdkNDg0ODczOTNlNSB7CiAgICAgICAgICAgICAgICAgICAgcG9zaXRpb246IHJlbGF0aXZlOwogICAgICAgICAgICAgICAgICAgIHdpZHRoOiAxMDAuMCU7CiAgICAgICAgICAgICAgICAgICAgaGVpZ2h0OiAxMDAuMCU7CiAgICAgICAgICAgICAgICAgICAgbGVmdDogMC4wJTsKICAgICAgICAgICAgICAgICAgICB0b3A6IDAuMCU7CiAgICAgICAgICAgICAgICB9CiAgICAgICAgICAgIDwvc3R5bGU+CiAgICAgICAgCjwvaGVhZD4KPGJvZHk+ICAgIAogICAgCiAgICAgICAgICAgIDxkaXYgY2xhc3M9ImZvbGl1bS1tYXAiIGlkPSJtYXBfN2JhNzZlYzU0ZWRjNDI2YTk5NmE3ZDQ4NDg3MzkzZTUiID48L2Rpdj4KICAgICAgICAKPC9ib2R5Pgo8c2NyaXB0PiAgICAKICAgIAogICAgICAgICAgICB2YXIgbWFwXzdiYTc2ZWM1NGVkYzQyNmE5OTZhN2Q0ODQ4NzM5M2U1ID0gTC5tYXAoCiAgICAgICAgICAgICAgICAibWFwXzdiYTc2ZWM1NGVkYzQyNmE5OTZhN2Q0ODQ4NzM5M2U1IiwKICAgICAgICAgICAgICAgIHsKICAgICAgICAgICAgICAgICAgICBjZW50ZXI6IFszNy41NTM1MDEsIDEyNy4xNjUzNDJdLAogICAgICAgICAgICAgICAgICAgIGNyczogTC5DUlMuRVBTRzM4NTcsCiAgICAgICAgICAgICAgICAgICAgem9vbTogMTUuMiwKICAgICAgICAgICAgICAgICAgICB6b29tQ29udHJvbDogdHJ1ZSwKICAgICAgICAgICAgICAgICAgICBwcmVmZXJDYW52YXM6IGZhbHNlLAogICAgICAgICAgICAgICAgfQogICAgICAgICAgICApOwoKICAgICAgICAgICAgCgogICAgICAgIAogICAgCiAgICAgICAgICAgIHZhciB0aWxlX2xheWVyX2VjYTc4ZTc3ZjczNzQ0ZDM4OThjNTIwMmY4Zjc1N2YzID0gTC50aWxlTGF5ZXIoCiAgICAgICAgICAgICAgICAiaHR0cHM6Ly97c30udGlsZS5vcGVuc3RyZWV0bWFwLm9yZy97en0ve3h9L3t5fS5wbmciLAogICAgICAgICAgICAgICAgeyJhdHRyaWJ1dGlvbiI6ICJEYXRhIGJ5IFx1MDAyNmNvcHk7IFx1MDAzY2EgaHJlZj1cImh0dHA6Ly9vcGVuc3RyZWV0bWFwLm9yZ1wiXHUwMDNlT3BlblN0cmVldE1hcFx1MDAzYy9hXHUwMDNlLCB1bmRlciBcdTAwM2NhIGhyZWY9XCJodHRwOi8vd3d3Lm9wZW5zdHJlZXRtYXAub3JnL2NvcHlyaWdodFwiXHUwMDNlT0RiTFx1MDAzYy9hXHUwMDNlLiIsICJkZXRlY3RSZXRpbmEiOiBmYWxzZSwgIm1heE5hdGl2ZVpvb20iOiAxOCwgIm1heFpvb20iOiAxOCwgIm1pblpvb20iOiAwLCAibm9XcmFwIjogZmFsc2UsICJvcGFjaXR5IjogMSwgInN1YmRvbWFpbnMiOiAiYWJjIiwgInRtcyI6IGZhbHNlfQogICAgICAgICAgICApLmFkZFRvKG1hcF83YmE3NmVjNTRlZGM0MjZhOTk2YTdkNDg0ODczOTNlNSk7CiAgICAgICAgCiAgICAKICAgICAgICAgICAgdmFyIHBvbHlfbGluZV80NWNmMWRmNGZhZWE0MDM3OGY0OTUyNTg0NTYyNzcxNyA9IEwucG9seWxpbmUoCiAgICAgICAgICAgICAgICBbWzM3LjU2MTM2NSwgMTI3LjE3MDY5NTk5OTk5OTk5XSwgWzM3LjU1OTc1NywgMTI3LjE3MDk4ODk5OTk5OTk5XSwgWzM3LjU1NzExMDU1ODksIDEyNy4xNjg5NDg1ODAyMDAwMV0sIFszNy41NTcxODAxOTAzLCAxMjcuMTY1NDIzODk1OF0sIFszNy41NTczMzgwNjY0LCAxMjcuMTY1MTI1MTc5M10sIFszNy41NTY1ODgwOTE3OTk5OTUsIDEyNy4xNjQ0NDc2NDQyXSwgWzM3LjU1NjA1NzgzMDksIDEyNy4xNjA4MzE4MTY2XSwgWzM3LjU1MzA0MTA2ODUsIDEyNy4xNjUzMjc2OTI0XSwgWzM3LjU1MTAxMTY4OTYsIDEyNy4xNjU0MTAzNTY4MDAwMV0sIFszNy41NTAyODg1OTU3LCAxMjcuMTY4MjU2Mjk5OV0sIFszNy41NTA5NzQyNTI2LCAxMjcuMTcyMDYwNjMzNTAwMDFdLCBbMzcuNTUzNDY2NjkwOCwgMTI3LjE3MjA1MTY1MDFdLCBbMzcuNTUzOTM2NzYyMywgMTI3LjE3MzQ4Nzg4ODldLCBbMzcuNTUxMjU3MjgwOSwgMTI3LjE3Mzg0ODM3NjkwMDAxXV0sCiAgICAgICAgICAgICAgICB7ImJ1YmJsaW5nTW91c2VFdmVudHMiOiB0cnVlLCAiY29sb3IiOiAicmVkIiwgImRhc2hBcnJheSI6IG51bGwsICJkYXNoT2Zmc2V0IjogbnVsbCwgImZpbGwiOiBmYWxzZSwgImZpbGxDb2xvciI6ICJyZWQiLCAiZmlsbE9wYWNpdHkiOiAwLjIsICJmaWxsUnVsZSI6ICJldmVub2RkIiwgImxpbmVDYXAiOiAicm91bmQiLCAibGluZUpvaW4iOiAicm91bmQiLCAibm9DbGlwIjogZmFsc2UsICJvcGFjaXR5IjogMS4wLCAic21vb3RoRmFjdG9yIjogMS4wLCAic3Ryb2tlIjogdHJ1ZSwgIndlaWdodCI6IDV9CiAgICAgICAgICAgICkuYWRkVG8obWFwXzdiYTc2ZWM1NGVkYzQyNmE5OTZhN2Q0ODQ4NzM5M2U1KTsKICAgICAgICAKICAgIAogICAgICAgICAgICB2YXIgY2lyY2xlX21hcmtlcl9iYThmN2NhODk1YTA0N2ZhYjhhZDBjMjFkYjVjNzRjNyA9IEwuY2lyY2xlTWFya2VyKAogICAgICAgICAgICAgICAgWzM3LjU2MDE5NjA3MDM5OTk5NiwgMTI3LjE2MzE1MjA5ODYwMDAxXSwKICAgICAgICAgICAgICAgIHsiYnViYmxpbmdNb3VzZUV2ZW50cyI6IHRydWUsICJjb2xvciI6ICIjMzM4OGZmIiwgImRhc2hBcnJheSI6IG51bGwsICJkYXNoT2Zmc2V0IjogbnVsbCwgImZpbGwiOiBmYWxzZSwgImZpbGxDb2xvciI6ICIjMzM4OGZmIiwgImZpbGxPcGFjaXR5IjogMC4yLCAiZmlsbFJ1bGUiOiAiZXZlbm9kZCIsICJsaW5lQ2FwIjogInJvdW5kIiwgImxpbmVKb2luIjogInJvdW5kIiwgIm9wYWNpdHkiOiAxLjAsICJyYWRpdXMiOiAxLCAic3Ryb2tlIjogdHJ1ZSwgIndlaWdodCI6IDN9CiAgICAgICAgICAgICkuYWRkVG8obWFwXzdiYTc2ZWM1NGVkYzQyNmE5OTZhN2Q0ODQ4NzM5M2U1KTsKICAgICAgICAKICAgIAogICAgICAgICAgICB2YXIgY2lyY2xlX21hcmtlcl84NmFjMDk5OTI5OWE0YTc0YjBiNWFhYTgyMTJmOGJmYyA9IEwuY2lyY2xlTWFya2VyKAogICAgICAgICAgICAgICAgWzM3LjU1OTk4MzE0MjEsIDEyNy4xNjU3Njg5MDk0XSwKICAgICAgICAgICAgICAgIHsiYnViYmxpbmdNb3VzZUV2ZW50cyI6IHRydWUsICJjb2xvciI6ICIjMzM4OGZmIiwgImRhc2hBcnJheSI6IG51bGwsICJkYXNoT2Zmc2V0IjogbnVsbCwgImZpbGwiOiBmYWxzZSwgImZpbGxDb2xvciI6ICIjMzM4OGZmIiwgImZpbGxPcGFjaXR5IjogMC4yLCAiZmlsbFJ1bGUiOiAiZXZlbm9kZCIsICJsaW5lQ2FwIjogInJvdW5kIiwgImxpbmVKb2luIjogInJvdW5kIiwgIm9wYWNpdHkiOiAxLjAsICJyYWRpdXMiOiAxLCAic3Ryb2tlIjogdHJ1ZSwgIndlaWdodCI6IDN9CiAgICAgICAgICAgICkuYWRkVG8obWFwXzdiYTc2ZWM1NGVkYzQyNmE5OTZhN2Q0ODQ4NzM5M2U1KTsKICAgICAgICAKICAgIAogICAgICAgICAgICB2YXIgY2lyY2xlX21hcmtlcl8zZjA2ODQyYzEyZDQ0ZjZmYjNkNmUzZWRmZGM4MWJjMiA9IEwuY2lyY2xlTWFya2VyKAogICAgICAgICAgICAgICAgWzM3LjU2MTM2NSwgMTI3LjE3MDY5NTk5OTk5OTk5XSwKICAgICAgICAgICAgICAgIHsiYnViYmxpbmdNb3VzZUV2ZW50cyI6IHRydWUsICJjb2xvciI6ICIjMzM4OGZmIiwgImRhc2hBcnJheSI6IG51bGwsICJkYXNoT2Zmc2V0IjogbnVsbCwgImZpbGwiOiBmYWxzZSwgImZpbGxDb2xvciI6ICIjMzM4OGZmIiwgImZpbGxPcGFjaXR5IjogMC4yLCAiZmlsbFJ1bGUiOiAiZXZlbm9kZCIsICJsaW5lQ2FwIjogInJvdW5kIiwgImxpbmVKb2luIjogInJvdW5kIiwgIm9wYWNpdHkiOiAxLjAsICJyYWRpdXMiOiAxLCAic3Ryb2tlIjogdHJ1ZSwgIndlaWdodCI6IDN9CiAgICAgICAgICAgICkuYWRkVG8obWFwXzdiYTc2ZWM1NGVkYzQyNmE5OTZhN2Q0ODQ4NzM5M2U1KTsKICAgICAgICAKICAgIAogICAgICAgICAgICB2YXIgY2lyY2xlX21hcmtlcl81ZGE5M2E2MjA3MTM0MGNjYTFhYjc1NjBhM2U3ZWRmYyA9IEwuY2lyY2xlTWFya2VyKAogICAgICAgICAgICAgICAgWzM3LjU1OTc1NywgMTI3LjE3MDk4ODk5OTk5OTk5XSwKICAgICAgICAgICAgICAgIHsiYnViYmxpbmdNb3VzZUV2ZW50cyI6IHRydWUsICJjb2xvciI6ICIjMzM4OGZmIiwgImRhc2hBcnJheSI6IG51bGwsICJkYXNoT2Zmc2V0IjogbnVsbCwgImZpbGwiOiBmYWxzZSwgImZpbGxDb2xvciI6ICIjMzM4OGZmIiwgImZpbGxPcGFjaXR5IjogMC4yLCAiZmlsbFJ1bGUiOiAiZXZlbm9kZCIsICJsaW5lQ2FwIjogInJvdW5kIiwgImxpbmVKb2luIjogInJvdW5kIiwgIm9wYWNpdHkiOiAxLjAsICJyYWRpdXMiOiAxLCAic3Ryb2tlIjogdHJ1ZSwgIndlaWdodCI6IDN9CiAgICAgICAgICAgICkuYWRkVG8obWFwXzdiYTc2ZWM1NGVkYzQyNmE5OTZhN2Q0ODQ4NzM5M2U1KTsKICAgICAgICAKICAgIAogICAgICAgICAgICB2YXIgY2lyY2xlX21hcmtlcl83Y2UxYTRjMTM1MzY0ZGVjYTM2Y2MyY2ZmNzRlNjk4YSA9IEwuY2lyY2xlTWFya2VyKAogICAgICAgICAgICAgICAgWzM3LjU1NzExMDU1ODksIDEyNy4xNjg5NDg1ODAyMDAwMV0sCiAgICAgICAgICAgICAgICB7ImJ1YmJsaW5nTW91c2VFdmVudHMiOiB0cnVlLCAiY29sb3IiOiAiIzMzODhmZiIsICJkYXNoQXJyYXkiOiBudWxsLCAiZGFzaE9mZnNldCI6IG51bGwsICJmaWxsIjogZmFsc2UsICJmaWxsQ29sb3IiOiAiIzMzODhmZiIsICJmaWxsT3BhY2l0eSI6IDAuMiwgImZpbGxSdWxlIjogImV2ZW5vZGQiLCAibGluZUNhcCI6ICJyb3VuZCIsICJsaW5lSm9pbiI6ICJyb3VuZCIsICJvcGFjaXR5IjogMS4wLCAicmFkaXVzIjogMSwgInN0cm9rZSI6IHRydWUsICJ3ZWlnaHQiOiAzfQogICAgICAgICAgICApLmFkZFRvKG1hcF83YmE3NmVjNTRlZGM0MjZhOTk2YTdkNDg0ODczOTNlNSk7CiAgICAgICAgCiAgICAKICAgICAgICAgICAgdmFyIGNpcmNsZV9tYXJrZXJfMWM0ZWJhZGIzZTFmNDk3ZmEwODk0N2I5ZTQ1Nzc1YWMgPSBMLmNpcmNsZU1hcmtlcigKICAgICAgICAgICAgICAgIFszNy41NTcxODAxOTAzLCAxMjcuMTY1NDIzODk1OF0sCiAgICAgICAgICAgICAgICB7ImJ1YmJsaW5nTW91c2VFdmVudHMiOiB0cnVlLCAiY29sb3IiOiAiIzMzODhmZiIsICJkYXNoQXJyYXkiOiBudWxsLCAiZGFzaE9mZnNldCI6IG51bGwsICJmaWxsIjogZmFsc2UsICJmaWxsQ29sb3IiOiAiIzMzODhmZiIsICJmaWxsT3BhY2l0eSI6IDAuMiwgImZpbGxSdWxlIjogImV2ZW5vZGQiLCAibGluZUNhcCI6ICJyb3VuZCIsICJsaW5lSm9pbiI6ICJyb3VuZCIsICJvcGFjaXR5IjogMS4wLCAicmFkaXVzIjogMSwgInN0cm9rZSI6IHRydWUsICJ3ZWlnaHQiOiAzfQogICAgICAgICAgICApLmFkZFRvKG1hcF83YmE3NmVjNTRlZGM0MjZhOTk2YTdkNDg0ODczOTNlNSk7CiAgICAgICAgCiAgICAKICAgICAgICAgICAgdmFyIGNpcmNsZV9tYXJrZXJfMzk4MTNmYTU2YzZhNGNiNjgwYzQ5MzY3Y2M0ODAyNDMgPSBMLmNpcmNsZU1hcmtlcigKICAgICAgICAgICAgICAgIFszNy41NTczMzgwNjY0LCAxMjcuMTY1MTI1MTc5M10sCiAgICAgICAgICAgICAgICB7ImJ1YmJsaW5nTW91c2VFdmVudHMiOiB0cnVlLCAiY29sb3IiOiAiIzMzODhmZiIsICJkYXNoQXJyYXkiOiBudWxsLCAiZGFzaE9mZnNldCI6IG51bGwsICJmaWxsIjogZmFsc2UsICJmaWxsQ29sb3IiOiAiIzMzODhmZiIsICJmaWxsT3BhY2l0eSI6IDAuMiwgImZpbGxSdWxlIjogImV2ZW5vZGQiLCAibGluZUNhcCI6ICJyb3VuZCIsICJsaW5lSm9pbiI6ICJyb3VuZCIsICJvcGFjaXR5IjogMS4wLCAicmFkaXVzIjogMSwgInN0cm9rZSI6IHRydWUsICJ3ZWlnaHQiOiAzfQogICAgICAgICAgICApLmFkZFRvKG1hcF83YmE3NmVjNTRlZGM0MjZhOTk2YTdkNDg0ODczOTNlNSk7CiAgICAgICAgCiAgICAKICAgICAgICAgICAgdmFyIGNpcmNsZV9tYXJrZXJfNWJmMjkzNGE0OWZlNGQxNzg4MzQ4MTVmNmQ3NjdmYTQgPSBMLmNpcmNsZU1hcmtlcigKICAgICAgICAgICAgICAgIFszNy41NTY1ODgwOTE3OTk5OTUsIDEyNy4xNjQ0NDc2NDQyXSwKICAgICAgICAgICAgICAgIHsiYnViYmxpbmdNb3VzZUV2ZW50cyI6IHRydWUsICJjb2xvciI6ICIjMzM4OGZmIiwgImRhc2hBcnJheSI6IG51bGwsICJkYXNoT2Zmc2V0IjogbnVsbCwgImZpbGwiOiBmYWxzZSwgImZpbGxDb2xvciI6ICIjMzM4OGZmIiwgImZpbGxPcGFjaXR5IjogMC4yLCAiZmlsbFJ1bGUiOiAiZXZlbm9kZCIsICJsaW5lQ2FwIjogInJvdW5kIiwgImxpbmVKb2luIjogInJvdW5kIiwgIm9wYWNpdHkiOiAxLjAsICJyYWRpdXMiOiAxLCAic3Ryb2tlIjogdHJ1ZSwgIndlaWdodCI6IDN9CiAgICAgICAgICAgICkuYWRkVG8obWFwXzdiYTc2ZWM1NGVkYzQyNmE5OTZhN2Q0ODQ4NzM5M2U1KTsKICAgICAgICAKICAgIAogICAgICAgICAgICB2YXIgY2lyY2xlX21hcmtlcl9mNTg3YzIwMjY0ZDc0ODFkODcxMmIwZjdhNjZkMjNlMCA9IEwuY2lyY2xlTWFya2VyKAogICAgICAgICAgICAgICAgWzM3LjU1NjA1NzgzMDksIDEyNy4xNjA4MzE4MTY2XSwKICAgICAgICAgICAgICAgIHsiYnViYmxpbmdNb3VzZUV2ZW50cyI6IHRydWUsICJjb2xvciI6ICIjMzM4OGZmIiwgImRhc2hBcnJheSI6IG51bGwsICJkYXNoT2Zmc2V0IjogbnVsbCwgImZpbGwiOiBmYWxzZSwgImZpbGxDb2xvciI6ICIjMzM4OGZmIiwgImZpbGxPcGFjaXR5IjogMC4yLCAiZmlsbFJ1bGUiOiAiZXZlbm9kZCIsICJsaW5lQ2FwIjogInJvdW5kIiwgImxpbmVKb2luIjogInJvdW5kIiwgIm9wYWNpdHkiOiAxLjAsICJyYWRpdXMiOiAxLCAic3Ryb2tlIjogdHJ1ZSwgIndlaWdodCI6IDN9CiAgICAgICAgICAgICkuYWRkVG8obWFwXzdiYTc2ZWM1NGVkYzQyNmE5OTZhN2Q0ODQ4NzM5M2U1KTsKICAgICAgICAKICAgIAogICAgICAgICAgICB2YXIgY2lyY2xlX21hcmtlcl8zYmRjNTljY2ZhMjE0Y2E5YjBmOWY5NmI4OWEzMDZjNyA9IEwuY2lyY2xlTWFya2VyKAogICAgICAgICAgICAgICAgWzM3LjU1MzA0MTA2ODUsIDEyNy4xNjUzMjc2OTI0XSwKICAgICAgICAgICAgICAgIHsiYnViYmxpbmdNb3VzZUV2ZW50cyI6IHRydWUsICJjb2xvciI6ICIjMzM4OGZmIiwgImRhc2hBcnJheSI6IG51bGwsICJkYXNoT2Zmc2V0IjogbnVsbCwgImZpbGwiOiBmYWxzZSwgImZpbGxDb2xvciI6ICIjMzM4OGZmIiwgImZpbGxPcGFjaXR5IjogMC4yLCAiZmlsbFJ1bGUiOiAiZXZlbm9kZCIsICJsaW5lQ2FwIjogInJvdW5kIiwgImxpbmVKb2luIjogInJvdW5kIiwgIm9wYWNpdHkiOiAxLjAsICJyYWRpdXMiOiAxLCAic3Ryb2tlIjogdHJ1ZSwgIndlaWdodCI6IDN9CiAgICAgICAgICAgICkuYWRkVG8obWFwXzdiYTc2ZWM1NGVkYzQyNmE5OTZhN2Q0ODQ4NzM5M2U1KTsKICAgICAgICAKICAgIAogICAgICAgICAgICB2YXIgY2lyY2xlX21hcmtlcl9lZTE3ZDdlYjUyY2I0OWViYTdhODAxYzJkODJhMjBlYSA9IEwuY2lyY2xlTWFya2VyKAogICAgICAgICAgICAgICAgWzM3LjU1MTAxMTY4OTYsIDEyNy4xNjU0MTAzNTY4MDAwMV0sCiAgICAgICAgICAgICAgICB7ImJ1YmJsaW5nTW91c2VFdmVudHMiOiB0cnVlLCAiY29sb3IiOiAiIzMzODhmZiIsICJkYXNoQXJyYXkiOiBudWxsLCAiZGFzaE9mZnNldCI6IG51bGwsICJmaWxsIjogZmFsc2UsICJmaWxsQ29sb3IiOiAiIzMzODhmZiIsICJmaWxsT3BhY2l0eSI6IDAuMiwgImZpbGxSdWxlIjogImV2ZW5vZGQiLCAibGluZUNhcCI6ICJyb3VuZCIsICJsaW5lSm9pbiI6ICJyb3VuZCIsICJvcGFjaXR5IjogMS4wLCAicmFkaXVzIjogMSwgInN0cm9rZSI6IHRydWUsICJ3ZWlnaHQiOiAzfQogICAgICAgICAgICApLmFkZFRvKG1hcF83YmE3NmVjNTRlZGM0MjZhOTk2YTdkNDg0ODczOTNlNSk7CiAgICAgICAgCiAgICAKICAgICAgICAgICAgdmFyIGNpcmNsZV9tYXJrZXJfMTYwNTRlY2Q4Zjg5NGI0ZDhlYTM1NWZmMzkwYmQ4NWUgPSBMLmNpcmNsZU1hcmtlcigKICAgICAgICAgICAgICAgIFszNy41NTAyODg1OTU3LCAxMjcuMTY4MjU2Mjk5OV0sCiAgICAgICAgICAgICAgICB7ImJ1YmJsaW5nTW91c2VFdmVudHMiOiB0cnVlLCAiY29sb3IiOiAiIzMzODhmZiIsICJkYXNoQXJyYXkiOiBudWxsLCAiZGFzaE9mZnNldCI6IG51bGwsICJmaWxsIjogZmFsc2UsICJmaWxsQ29sb3IiOiAiIzMzODhmZiIsICJmaWxsT3BhY2l0eSI6IDAuMiwgImZpbGxSdWxlIjogImV2ZW5vZGQiLCAibGluZUNhcCI6ICJyb3VuZCIsICJsaW5lSm9pbiI6ICJyb3VuZCIsICJvcGFjaXR5IjogMS4wLCAicmFkaXVzIjogMSwgInN0cm9rZSI6IHRydWUsICJ3ZWlnaHQiOiAzfQogICAgICAgICAgICApLmFkZFRvKG1hcF83YmE3NmVjNTRlZGM0MjZhOTk2YTdkNDg0ODczOTNlNSk7CiAgICAgICAgCiAgICAKICAgICAgICAgICAgdmFyIGNpcmNsZV9tYXJrZXJfOGZjZGMwZTQyM2VhNDNkYmFjMjk3NjFhZDM3NmY2MTIgPSBMLmNpcmNsZU1hcmtlcigKICAgICAgICAgICAgICAgIFszNy41NTA5NzQyNTI2LCAxMjcuMTcyMDYwNjMzNTAwMDFdLAogICAgICAgICAgICAgICAgeyJidWJibGluZ01vdXNlRXZlbnRzIjogdHJ1ZSwgImNvbG9yIjogIiMzMzg4ZmYiLCAiZGFzaEFycmF5IjogbnVsbCwgImRhc2hPZmZzZXQiOiBudWxsLCAiZmlsbCI6IGZhbHNlLCAiZmlsbENvbG9yIjogIiMzMzg4ZmYiLCAiZmlsbE9wYWNpdHkiOiAwLjIsICJmaWxsUnVsZSI6ICJldmVub2RkIiwgImxpbmVDYXAiOiAicm91bmQiLCAibGluZUpvaW4iOiAicm91bmQiLCAib3BhY2l0eSI6IDEuMCwgInJhZGl1cyI6IDEsICJzdHJva2UiOiB0cnVlLCAid2VpZ2h0IjogM30KICAgICAgICAgICAgKS5hZGRUbyhtYXBfN2JhNzZlYzU0ZWRjNDI2YTk5NmE3ZDQ4NDg3MzkzZTUpOwogICAgICAgIAogICAgCiAgICAgICAgICAgIHZhciBjaXJjbGVfbWFya2VyX2MxNDZhNTI4YzMxZjRhZmNiZjkxODMxMmQyOTc3NTBjID0gTC5jaXJjbGVNYXJrZXIoCiAgICAgICAgICAgICAgICBbMzcuNTUzNDY2NjkwOCwgMTI3LjE3MjA1MTY1MDFdLAogICAgICAgICAgICAgICAgeyJidWJibGluZ01vdXNlRXZlbnRzIjogdHJ1ZSwgImNvbG9yIjogIiMzMzg4ZmYiLCAiZGFzaEFycmF5IjogbnVsbCwgImRhc2hPZmZzZXQiOiBudWxsLCAiZmlsbCI6IGZhbHNlLCAiZmlsbENvbG9yIjogIiMzMzg4ZmYiLCAiZmlsbE9wYWNpdHkiOiAwLjIsICJmaWxsUnVsZSI6ICJldmVub2RkIiwgImxpbmVDYXAiOiAicm91bmQiLCAibGluZUpvaW4iOiAicm91bmQiLCAib3BhY2l0eSI6IDEuMCwgInJhZGl1cyI6IDEsICJzdHJva2UiOiB0cnVlLCAid2VpZ2h0IjogM30KICAgICAgICAgICAgKS5hZGRUbyhtYXBfN2JhNzZlYzU0ZWRjNDI2YTk5NmE3ZDQ4NDg3MzkzZTUpOwogICAgICAgIAogICAgCiAgICAgICAgICAgIHZhciBjaXJjbGVfbWFya2VyXzdiMTM4YjUzOGQxYjQ4YjU5YTUwZWY2YmFhOWVhMGYxID0gTC5jaXJjbGVNYXJrZXIoCiAgICAgICAgICAgICAgICBbMzcuNTUzOTM2NzYyMywgMTI3LjE3MzQ4Nzg4ODldLAogICAgICAgICAgICAgICAgeyJidWJibGluZ01vdXNlRXZlbnRzIjogdHJ1ZSwgImNvbG9yIjogIiMzMzg4ZmYiLCAiZGFzaEFycmF5IjogbnVsbCwgImRhc2hPZmZzZXQiOiBudWxsLCAiZmlsbCI6IGZhbHNlLCAiZmlsbENvbG9yIjogIiMzMzg4ZmYiLCAiZmlsbE9wYWNpdHkiOiAwLjIsICJmaWxsUnVsZSI6ICJldmVub2RkIiwgImxpbmVDYXAiOiAicm91bmQiLCAibGluZUpvaW4iOiAicm91bmQiLCAib3BhY2l0eSI6IDEuMCwgInJhZGl1cyI6IDEsICJzdHJva2UiOiB0cnVlLCAid2VpZ2h0IjogM30KICAgICAgICAgICAgKS5hZGRUbyhtYXBfN2JhNzZlYzU0ZWRjNDI2YTk5NmE3ZDQ4NDg3MzkzZTUpOwogICAgICAgIAogICAgCiAgICAgICAgICAgIHZhciBjaXJjbGVfbWFya2VyXzQzN2UwMTI5YzI1MDRmYTc5ZDVhZGI5NzZhZjk4MTVkID0gTC5jaXJjbGVNYXJrZXIoCiAgICAgICAgICAgICAgICBbMzcuNTUxMjU3MjgwOSwgMTI3LjE3Mzg0ODM3NjkwMDAxXSwKICAgICAgICAgICAgICAgIHsiYnViYmxpbmdNb3VzZUV2ZW50cyI6IHRydWUsICJjb2xvciI6ICIjMzM4OGZmIiwgImRhc2hBcnJheSI6IG51bGwsICJkYXNoT2Zmc2V0IjogbnVsbCwgImZpbGwiOiBmYWxzZSwgImZpbGxDb2xvciI6ICIjMzM4OGZmIiwgImZpbGxPcGFjaXR5IjogMC4yLCAiZmlsbFJ1bGUiOiAiZXZlbm9kZCIsICJsaW5lQ2FwIjogInJvdW5kIiwgImxpbmVKb2luIjogInJvdW5kIiwgIm9wYWNpdHkiOiAxLjAsICJyYWRpdXMiOiAxLCAic3Ryb2tlIjogdHJ1ZSwgIndlaWdodCI6IDN9CiAgICAgICAgICAgICkuYWRkVG8obWFwXzdiYTc2ZWM1NGVkYzQyNmE5OTZhN2Q0ODQ4NzM5M2U1KTsKICAgICAgICAKICAgIAogICAgICAgICAgICB2YXIgY2lyY2xlX21hcmtlcl9jZDVmNjJkNzc1M2Q0ZjA5YTk4NDMyODBlNzNkOTU0NCA9IEwuY2lyY2xlTWFya2VyKAogICAgICAgICAgICAgICAgWzM3LjU2MDE5NjA3MDM5OTk5NiwgMTI3LjE2MzE1MjA5ODYwMDAxXSwKICAgICAgICAgICAgICAgIHsiYnViYmxpbmdNb3VzZUV2ZW50cyI6IHRydWUsICJjb2xvciI6ICIjMzM4OGZmIiwgImRhc2hBcnJheSI6IG51bGwsICJkYXNoT2Zmc2V0IjogbnVsbCwgImZpbGwiOiBmYWxzZSwgImZpbGxDb2xvciI6ICIjMzM4OGZmIiwgImZpbGxPcGFjaXR5IjogMC4yLCAiZmlsbFJ1bGUiOiAiZXZlbm9kZCIsICJsaW5lQ2FwIjogInJvdW5kIiwgImxpbmVKb2luIjogInJvdW5kIiwgIm9wYWNpdHkiOiAxLjAsICJyYWRpdXMiOiAxLCAic3Ryb2tlIjogdHJ1ZSwgIndlaWdodCI6IDN9CiAgICAgICAgICAgICkuYWRkVG8obWFwXzdiYTc2ZWM1NGVkYzQyNmE5OTZhN2Q0ODQ4NzM5M2U1KTsKICAgICAgICAKICAgIAogICAgICAgICAgICB2YXIgY2lyY2xlX21hcmtlcl82MDFhMTJmNjg1Nzc0OGFiYWVmY2UxNWIxZjM2NTk2MiA9IEwuY2lyY2xlTWFya2VyKAogICAgICAgICAgICAgICAgWzM3LjU1OTk4MzE0MjEsIDEyNy4xNjU3Njg5MDk0XSwKICAgICAgICAgICAgICAgIHsiYnViYmxpbmdNb3VzZUV2ZW50cyI6IHRydWUsICJjb2xvciI6ICIjMzM4OGZmIiwgImRhc2hBcnJheSI6IG51bGwsICJkYXNoT2Zmc2V0IjogbnVsbCwgImZpbGwiOiBmYWxzZSwgImZpbGxDb2xvciI6ICIjMzM4OGZmIiwgImZpbGxPcGFjaXR5IjogMC4yLCAiZmlsbFJ1bGUiOiAiZXZlbm9kZCIsICJsaW5lQ2FwIjogInJvdW5kIiwgImxpbmVKb2luIjogInJvdW5kIiwgIm9wYWNpdHkiOiAxLjAsICJyYWRpdXMiOiAxLCAic3Ryb2tlIjogdHJ1ZSwgIndlaWdodCI6IDN9CiAgICAgICAgICAgICkuYWRkVG8obWFwXzdiYTc2ZWM1NGVkYzQyNmE5OTZhN2Q0ODQ4NzM5M2U1KTsKICAgICAgICAKICAgIAogICAgICAgICAgICB2YXIgY2lyY2xlX21hcmtlcl82OGVlOGM3MTk2ODU0ODQ5YTMzMjAzNmI0MGQ5ZTRjMiA9IEwuY2lyY2xlTWFya2VyKAogICAgICAgICAgICAgICAgWzM3LjU2MTM2NSwgMTI3LjE3MDY5NTk5OTk5OTk5XSwKICAgICAgICAgICAgICAgIHsiYnViYmxpbmdNb3VzZUV2ZW50cyI6IHRydWUsICJjb2xvciI6ICIjMzM4OGZmIiwgImRhc2hBcnJheSI6IG51bGwsICJkYXNoT2Zmc2V0IjogbnVsbCwgImZpbGwiOiBmYWxzZSwgImZpbGxDb2xvciI6ICIjMzM4OGZmIiwgImZpbGxPcGFjaXR5IjogMC4yLCAiZmlsbFJ1bGUiOiAiZXZlbm9kZCIsICJsaW5lQ2FwIjogInJvdW5kIiwgImxpbmVKb2luIjogInJvdW5kIiwgIm9wYWNpdHkiOiAxLjAsICJyYWRpdXMiOiAxLCAic3Ryb2tlIjogdHJ1ZSwgIndlaWdodCI6IDN9CiAgICAgICAgICAgICkuYWRkVG8obWFwXzdiYTc2ZWM1NGVkYzQyNmE5OTZhN2Q0ODQ4NzM5M2U1KTsKICAgICAgICAKICAgIAogICAgICAgICAgICB2YXIgY2lyY2xlX21hcmtlcl9kZGIxOWEwMjcxNTA0NThmYWQzOWEyYjlhZGU1NWVjZSA9IEwuY2lyY2xlTWFya2VyKAogICAgICAgICAgICAgICAgWzM3LjU1OTc1NywgMTI3LjE3MDk4ODk5OTk5OTk5XSwKICAgICAgICAgICAgICAgIHsiYnViYmxpbmdNb3VzZUV2ZW50cyI6IHRydWUsICJjb2xvciI6ICIjMzM4OGZmIiwgImRhc2hBcnJheSI6IG51bGwsICJkYXNoT2Zmc2V0IjogbnVsbCwgImZpbGwiOiBmYWxzZSwgImZpbGxDb2xvciI6ICIjMzM4OGZmIiwgImZpbGxPcGFjaXR5IjogMC4yLCAiZmlsbFJ1bGUiOiAiZXZlbm9kZCIsICJsaW5lQ2FwIjogInJvdW5kIiwgImxpbmVKb2luIjogInJvdW5kIiwgIm9wYWNpdHkiOiAxLjAsICJyYWRpdXMiOiAxLCAic3Ryb2tlIjogdHJ1ZSwgIndlaWdodCI6IDN9CiAgICAgICAgICAgICkuYWRkVG8obWFwXzdiYTc2ZWM1NGVkYzQyNmE5OTZhN2Q0ODQ4NzM5M2U1KTsKICAgICAgICAKICAgIAogICAgICAgICAgICB2YXIgY2lyY2xlX21hcmtlcl85YzFmYzFkZDA0NGY0OGY0OGExYWUwZTVhOWNkMDQ1NiA9IEwuY2lyY2xlTWFya2VyKAogICAgICAgICAgICAgICAgWzM3LjU1NzExMDU1ODksIDEyNy4xNjg5NDg1ODAyMDAwMV0sCiAgICAgICAgICAgICAgICB7ImJ1YmJsaW5nTW91c2VFdmVudHMiOiB0cnVlLCAiY29sb3IiOiAiIzMzODhmZiIsICJkYXNoQXJyYXkiOiBudWxsLCAiZGFzaE9mZnNldCI6IG51bGwsICJmaWxsIjogZmFsc2UsICJmaWxsQ29sb3IiOiAiIzMzODhmZiIsICJmaWxsT3BhY2l0eSI6IDAuMiwgImZpbGxSdWxlIjogImV2ZW5vZGQiLCAibGluZUNhcCI6ICJyb3VuZCIsICJsaW5lSm9pbiI6ICJyb3VuZCIsICJvcGFjaXR5IjogMS4wLCAicmFkaXVzIjogMSwgInN0cm9rZSI6IHRydWUsICJ3ZWlnaHQiOiAzfQogICAgICAgICAgICApLmFkZFRvKG1hcF83YmE3NmVjNTRlZGM0MjZhOTk2YTdkNDg0ODczOTNlNSk7CiAgICAgICAgCiAgICAKICAgICAgICAgICAgdmFyIGNpcmNsZV9tYXJrZXJfODJlZWQ4MWM0NTcyNDg3YWFlMjg5MWUwMzg3MzNjNGUgPSBMLmNpcmNsZU1hcmtlcigKICAgICAgICAgICAgICAgIFszNy41NTcxODAxOTAzLCAxMjcuMTY1NDIzODk1OF0sCiAgICAgICAgICAgICAgICB7ImJ1YmJsaW5nTW91c2VFdmVudHMiOiB0cnVlLCAiY29sb3IiOiAiIzMzODhmZiIsICJkYXNoQXJyYXkiOiBudWxsLCAiZGFzaE9mZnNldCI6IG51bGwsICJmaWxsIjogZmFsc2UsICJmaWxsQ29sb3IiOiAiIzMzODhmZiIsICJmaWxsT3BhY2l0eSI6IDAuMiwgImZpbGxSdWxlIjogImV2ZW5vZGQiLCAibGluZUNhcCI6ICJyb3VuZCIsICJsaW5lSm9pbiI6ICJyb3VuZCIsICJvcGFjaXR5IjogMS4wLCAicmFkaXVzIjogMSwgInN0cm9rZSI6IHRydWUsICJ3ZWlnaHQiOiAzfQogICAgICAgICAgICApLmFkZFRvKG1hcF83YmE3NmVjNTRlZGM0MjZhOTk2YTdkNDg0ODczOTNlNSk7CiAgICAgICAgCiAgICAKICAgICAgICAgICAgdmFyIGNpcmNsZV9tYXJrZXJfYWI4YzA1YzBhMDc4NGJlMGFlNWVhMzkxZDVjMjRmYTMgPSBMLmNpcmNsZU1hcmtlcigKICAgICAgICAgICAgICAgIFszNy41NTczMzgwNjY0LCAxMjcuMTY1MTI1MTc5M10sCiAgICAgICAgICAgICAgICB7ImJ1YmJsaW5nTW91c2VFdmVudHMiOiB0cnVlLCAiY29sb3IiOiAiIzMzODhmZiIsICJkYXNoQXJyYXkiOiBudWxsLCAiZGFzaE9mZnNldCI6IG51bGwsICJmaWxsIjogZmFsc2UsICJmaWxsQ29sb3IiOiAiIzMzODhmZiIsICJmaWxsT3BhY2l0eSI6IDAuMiwgImZpbGxSdWxlIjogImV2ZW5vZGQiLCAibGluZUNhcCI6ICJyb3VuZCIsICJsaW5lSm9pbiI6ICJyb3VuZCIsICJvcGFjaXR5IjogMS4wLCAicmFkaXVzIjogMSwgInN0cm9rZSI6IHRydWUsICJ3ZWlnaHQiOiAzfQogICAgICAgICAgICApLmFkZFRvKG1hcF83YmE3NmVjNTRlZGM0MjZhOTk2YTdkNDg0ODczOTNlNSk7CiAgICAgICAgCiAgICAKICAgICAgICAgICAgdmFyIGNpcmNsZV9tYXJrZXJfNzdjYzU4YTFmMTkwNGYxOWJkYmJhNjI1NTc2YzViMjggPSBMLmNpcmNsZU1hcmtlcigKICAgICAgICAgICAgICAgIFszNy41NTY1ODgwOTE3OTk5OTUsIDEyNy4xNjQ0NDc2NDQyXSwKICAgICAgICAgICAgICAgIHsiYnViYmxpbmdNb3VzZUV2ZW50cyI6IHRydWUsICJjb2xvciI6ICIjMzM4OGZmIiwgImRhc2hBcnJheSI6IG51bGwsICJkYXNoT2Zmc2V0IjogbnVsbCwgImZpbGwiOiBmYWxzZSwgImZpbGxDb2xvciI6ICIjMzM4OGZmIiwgImZpbGxPcGFjaXR5IjogMC4yLCAiZmlsbFJ1bGUiOiAiZXZlbm9kZCIsICJsaW5lQ2FwIjogInJvdW5kIiwgImxpbmVKb2luIjogInJvdW5kIiwgIm9wYWNpdHkiOiAxLjAsICJyYWRpdXMiOiAxLCAic3Ryb2tlIjogdHJ1ZSwgIndlaWdodCI6IDN9CiAgICAgICAgICAgICkuYWRkVG8obWFwXzdiYTc2ZWM1NGVkYzQyNmE5OTZhN2Q0ODQ4NzM5M2U1KTsKICAgICAgICAKICAgIAogICAgICAgICAgICB2YXIgY2lyY2xlX21hcmtlcl8yYzE4YjQxMDQ3YmY0YWQ3YWNmODhiNWNmOTIxZjY2OCA9IEwuY2lyY2xlTWFya2VyKAogICAgICAgICAgICAgICAgWzM3LjU1NjA1NzgzMDksIDEyNy4xNjA4MzE4MTY2XSwKICAgICAgICAgICAgICAgIHsiYnViYmxpbmdNb3VzZUV2ZW50cyI6IHRydWUsICJjb2xvciI6ICIjMzM4OGZmIiwgImRhc2hBcnJheSI6IG51bGwsICJkYXNoT2Zmc2V0IjogbnVsbCwgImZpbGwiOiBmYWxzZSwgImZpbGxDb2xvciI6ICIjMzM4OGZmIiwgImZpbGxPcGFjaXR5IjogMC4yLCAiZmlsbFJ1bGUiOiAiZXZlbm9kZCIsICJsaW5lQ2FwIjogInJvdW5kIiwgImxpbmVKb2luIjogInJvdW5kIiwgIm9wYWNpdHkiOiAxLjAsICJyYWRpdXMiOiAxLCAic3Ryb2tlIjogdHJ1ZSwgIndlaWdodCI6IDN9CiAgICAgICAgICAgICkuYWRkVG8obWFwXzdiYTc2ZWM1NGVkYzQyNmE5OTZhN2Q0ODQ4NzM5M2U1KTsKICAgICAgICAKICAgIAogICAgICAgICAgICB2YXIgY2lyY2xlX21hcmtlcl8yYzYzZDk0YjI5NDI0N2E4YmM0NGY5ODg5MWI3Zjc3YyA9IEwuY2lyY2xlTWFya2VyKAogICAgICAgICAgICAgICAgWzM3LjU1MzA0MTA2ODUsIDEyNy4xNjUzMjc2OTI0XSwKICAgICAgICAgICAgICAgIHsiYnViYmxpbmdNb3VzZUV2ZW50cyI6IHRydWUsICJjb2xvciI6ICIjMzM4OGZmIiwgImRhc2hBcnJheSI6IG51bGwsICJkYXNoT2Zmc2V0IjogbnVsbCwgImZpbGwiOiBmYWxzZSwgImZpbGxDb2xvciI6ICIjMzM4OGZmIiwgImZpbGxPcGFjaXR5IjogMC4yLCAiZmlsbFJ1bGUiOiAiZXZlbm9kZCIsICJsaW5lQ2FwIjogInJvdW5kIiwgImxpbmVKb2luIjogInJvdW5kIiwgIm9wYWNpdHkiOiAxLjAsICJyYWRpdXMiOiAxLCAic3Ryb2tlIjogdHJ1ZSwgIndlaWdodCI6IDN9CiAgICAgICAgICAgICkuYWRkVG8obWFwXzdiYTc2ZWM1NGVkYzQyNmE5OTZhN2Q0ODQ4NzM5M2U1KTsKICAgICAgICAKICAgIAogICAgICAgICAgICB2YXIgY2lyY2xlX21hcmtlcl8yNGNlNmM5ZWU5NjM0ZmE4Yjk1MWRmMzcyNTc0YTU3ZCA9IEwuY2lyY2xlTWFya2VyKAogICAgICAgICAgICAgICAgWzM3LjU1MTAxMTY4OTYsIDEyNy4xNjU0MTAzNTY4MDAwMV0sCiAgICAgICAgICAgICAgICB7ImJ1YmJsaW5nTW91c2VFdmVudHMiOiB0cnVlLCAiY29sb3IiOiAiIzMzODhmZiIsICJkYXNoQXJyYXkiOiBudWxsLCAiZGFzaE9mZnNldCI6IG51bGwsICJmaWxsIjogZmFsc2UsICJmaWxsQ29sb3IiOiAiIzMzODhmZiIsICJmaWxsT3BhY2l0eSI6IDAuMiwgImZpbGxSdWxlIjogImV2ZW5vZGQiLCAibGluZUNhcCI6ICJyb3VuZCIsICJsaW5lSm9pbiI6ICJyb3VuZCIsICJvcGFjaXR5IjogMS4wLCAicmFkaXVzIjogMSwgInN0cm9rZSI6IHRydWUsICJ3ZWlnaHQiOiAzfQogICAgICAgICAgICApLmFkZFRvKG1hcF83YmE3NmVjNTRlZGM0MjZhOTk2YTdkNDg0ODczOTNlNSk7CiAgICAgICAgCiAgICAKICAgICAgICAgICAgdmFyIGNpcmNsZV9tYXJrZXJfZDhmYjk3ZGFjYTQ1NDkxMmFhYTg0M2U2ZTliZjk0YzIgPSBMLmNpcmNsZU1hcmtlcigKICAgICAgICAgICAgICAgIFszNy41NTAyODg1OTU3LCAxMjcuMTY4MjU2Mjk5OV0sCiAgICAgICAgICAgICAgICB7ImJ1YmJsaW5nTW91c2VFdmVudHMiOiB0cnVlLCAiY29sb3IiOiAiIzMzODhmZiIsICJkYXNoQXJyYXkiOiBudWxsLCAiZGFzaE9mZnNldCI6IG51bGwsICJmaWxsIjogZmFsc2UsICJmaWxsQ29sb3IiOiAiIzMzODhmZiIsICJmaWxsT3BhY2l0eSI6IDAuMiwgImZpbGxSdWxlIjogImV2ZW5vZGQiLCAibGluZUNhcCI6ICJyb3VuZCIsICJsaW5lSm9pbiI6ICJyb3VuZCIsICJvcGFjaXR5IjogMS4wLCAicmFkaXVzIjogMSwgInN0cm9rZSI6IHRydWUsICJ3ZWlnaHQiOiAzfQogICAgICAgICAgICApLmFkZFRvKG1hcF83YmE3NmVjNTRlZGM0MjZhOTk2YTdkNDg0ODczOTNlNSk7CiAgICAgICAgCiAgICAKICAgICAgICAgICAgdmFyIGNpcmNsZV9tYXJrZXJfY2E1MjYzMDViYzk2NDVkNWE5MTY4NTkwOWRjOWE0M2UgPSBMLmNpcmNsZU1hcmtlcigKICAgICAgICAgICAgICAgIFszNy41NTA5NzQyNTI2LCAxMjcuMTcyMDYwNjMzNTAwMDFdLAogICAgICAgICAgICAgICAgeyJidWJibGluZ01vdXNlRXZlbnRzIjogdHJ1ZSwgImNvbG9yIjogIiMzMzg4ZmYiLCAiZGFzaEFycmF5IjogbnVsbCwgImRhc2hPZmZzZXQiOiBudWxsLCAiZmlsbCI6IGZhbHNlLCAiZmlsbENvbG9yIjogIiMzMzg4ZmYiLCAiZmlsbE9wYWNpdHkiOiAwLjIsICJmaWxsUnVsZSI6ICJldmVub2RkIiwgImxpbmVDYXAiOiAicm91bmQiLCAibGluZUpvaW4iOiAicm91bmQiLCAib3BhY2l0eSI6IDEuMCwgInJhZGl1cyI6IDEsICJzdHJva2UiOiB0cnVlLCAid2VpZ2h0IjogM30KICAgICAgICAgICAgKS5hZGRUbyhtYXBfN2JhNzZlYzU0ZWRjNDI2YTk5NmE3ZDQ4NDg3MzkzZTUpOwogICAgICAgIAogICAgCiAgICAgICAgICAgIHZhciBjaXJjbGVfbWFya2VyXzljZjA1NjcxODg5ODQ1YmE5NTdkNGU2NzVkODlmOTllID0gTC5jaXJjbGVNYXJrZXIoCiAgICAgICAgICAgICAgICBbMzcuNTUzNDY2NjkwOCwgMTI3LjE3MjA1MTY1MDFdLAogICAgICAgICAgICAgICAgeyJidWJibGluZ01vdXNlRXZlbnRzIjogdHJ1ZSwgImNvbG9yIjogIiMzMzg4ZmYiLCAiZGFzaEFycmF5IjogbnVsbCwgImRhc2hPZmZzZXQiOiBudWxsLCAiZmlsbCI6IGZhbHNlLCAiZmlsbENvbG9yIjogIiMzMzg4ZmYiLCAiZmlsbE9wYWNpdHkiOiAwLjIsICJmaWxsUnVsZSI6ICJldmVub2RkIiwgImxpbmVDYXAiOiAicm91bmQiLCAibGluZUpvaW4iOiAicm91bmQiLCAib3BhY2l0eSI6IDEuMCwgInJhZGl1cyI6IDEsICJzdHJva2UiOiB0cnVlLCAid2VpZ2h0IjogM30KICAgICAgICAgICAgKS5hZGRUbyhtYXBfN2JhNzZlYzU0ZWRjNDI2YTk5NmE3ZDQ4NDg3MzkzZTUpOwogICAgICAgIAogICAgCiAgICAgICAgICAgIHZhciBjaXJjbGVfbWFya2VyXzNjY2IxNWEwY2E5ZTQ2MjlhOWEzYzNiZjA3YTYwNWVhID0gTC5jaXJjbGVNYXJrZXIoCiAgICAgICAgICAgICAgICBbMzcuNTUzOTM2NzYyMywgMTI3LjE3MzQ4Nzg4ODldLAogICAgICAgICAgICAgICAgeyJidWJibGluZ01vdXNlRXZlbnRzIjogdHJ1ZSwgImNvbG9yIjogIiMzMzg4ZmYiLCAiZGFzaEFycmF5IjogbnVsbCwgImRhc2hPZmZzZXQiOiBudWxsLCAiZmlsbCI6IGZhbHNlLCAiZmlsbENvbG9yIjogIiMzMzg4ZmYiLCAiZmlsbE9wYWNpdHkiOiAwLjIsICJmaWxsUnVsZSI6ICJldmVub2RkIiwgImxpbmVDYXAiOiAicm91bmQiLCAibGluZUpvaW4iOiAicm91bmQiLCAib3BhY2l0eSI6IDEuMCwgInJhZGl1cyI6IDEsICJzdHJva2UiOiB0cnVlLCAid2VpZ2h0IjogM30KICAgICAgICAgICAgKS5hZGRUbyhtYXBfN2JhNzZlYzU0ZWRjNDI2YTk5NmE3ZDQ4NDg3MzkzZTUpOwogICAgICAgIAogICAgCiAgICAgICAgICAgIHZhciBjaXJjbGVfbWFya2VyXzg1NmFmY2YzNzNjZDQ0ODY4MzQwYzk5NmVlN2U3Nzg4ID0gTC5jaXJjbGVNYXJrZXIoCiAgICAgICAgICAgICAgICBbMzcuNTUxMjU3MjgwOSwgMTI3LjE3Mzg0ODM3NjkwMDAxXSwKICAgICAgICAgICAgICAgIHsiYnViYmxpbmdNb3VzZUV2ZW50cyI6IHRydWUsICJjb2xvciI6ICIjMzM4OGZmIiwgImRhc2hBcnJheSI6IG51bGwsICJkYXNoT2Zmc2V0IjogbnVsbCwgImZpbGwiOiBmYWxzZSwgImZpbGxDb2xvciI6ICIjMzM4OGZmIiwgImZpbGxPcGFjaXR5IjogMC4yLCAiZmlsbFJ1bGUiOiAiZXZlbm9kZCIsICJsaW5lQ2FwIjogInJvdW5kIiwgImxpbmVKb2luIjogInJvdW5kIiwgIm9wYWNpdHkiOiAxLjAsICJyYWRpdXMiOiAxLCAic3Ryb2tlIjogdHJ1ZSwgIndlaWdodCI6IDN9CiAgICAgICAgICAgICkuYWRkVG8obWFwXzdiYTc2ZWM1NGVkYzQyNmE5OTZhN2Q0ODQ4NzM5M2U1KTsKICAgICAgICAKPC9zY3JpcHQ+ onload=\"this.contentDocument.open();this.contentDocument.write(atob(this.getAttribute('data-html')));this.contentDocument.close();\" allowfullscreen webkitallowfullscreen mozallowfullscreen></iframe></div></div>"
      ],
      "text/plain": [
       "<folium.folium.Map at 0x21f331fc148>"
      ]
     },
     "execution_count": 66,
     "metadata": {},
     "output_type": "execute_result"
    }
   ],
   "source": [
    "for i in range(0,len(lats)):\n",
    "    folium.CircleMarker(location=[lats[i], lons[i]],radius = 1).add_to(m)\n",
    "m"
   ]
  },
  {
   "cell_type": "code",
   "execution_count": null,
   "metadata": {},
   "outputs": [],
   "source": []
  },
  {
   "cell_type": "code",
   "execution_count": null,
   "metadata": {},
   "outputs": [],
   "source": []
  }
 ],
 "metadata": {
  "kernelspec": {
   "display_name": "test1",
   "language": "python",
   "name": "test1"
  },
  "language_info": {
   "codemirror_mode": {
    "name": "ipython",
    "version": 3
   },
   "file_extension": ".py",
   "mimetype": "text/x-python",
   "name": "python",
   "nbconvert_exporter": "python",
   "pygments_lexer": "ipython3",
   "version": "3.7.4"
  }
 },
 "nbformat": 4,
 "nbformat_minor": 2
}
