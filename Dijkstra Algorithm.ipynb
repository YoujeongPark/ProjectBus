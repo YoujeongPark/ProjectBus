{
 "cells": [
  {
   "cell_type": "code",
   "execution_count": 7,
   "metadata": {},
   "outputs": [
    {
     "name": "stdout",
     "output_type": "stream",
     "text": [
      "부모 테이블 (경로 이동) : \n",
      "{'a': 'b', 'b': 'start', 'fin': 'a'}\n",
      "최단 거리 노드 비용은 : \n",
      "{'a': 5, 'b': 2, 'fin': 6}\n"
     ]
    }
   ],
   "source": [
    "graph = {}\n",
    "graph[\"start\"] = {}\n",
    "graph[\"start\"][\"a\"] = 6\n",
    "graph[\"start\"][\"b\"] = 2\n",
    "graph[\"a\"] = {\"fin\": 1} # graph[\"a\"][\"fin\"] = 1\n",
    "graph[\"b\"] = {\"a\": 3, \"fin\": 5} # graph[\"b\"][\"a\"] = 3   graph[\"b\"][\"fin\"] = 5\n",
    "graph[\"fin\"] = {}\n",
    "\n",
    "# 노드의 가격을 저장하는 해시테이블\n",
    "infinity = float(\"inf\") # 파이썬에서 무한 표현 방법은 float('inf') 를 사용한다.\n",
    "costs = {}\n",
    "costs[\"a\"] = 6\n",
    "costs[\"b\"] = 2\n",
    "costs[\"fin\"] = infinity\n",
    "\n",
    "# 부모를 위한 해시테이블\n",
    "parents = {}\n",
    "parents[\"a\"] = \"start\"\n",
    "parents[\"b\"] = \"start\"\n",
    "parents[\"fin\"] = None\n",
    "\n",
    "processed = [] # 각 노드는 한번씩만 처리해야하므로 이미 처리한 노드를 기록해놓을 리스트가 필요하다.\n",
    "\n",
    "# 가장 싼 노드를 찾는 함수\n",
    "def find_lowest_cost_node(costs):\n",
    "    lowest_cost = float(\"inf\")\n",
    "    lowest_cost_node = None\n",
    "    \n",
    "    for node in costs: # 비용 테이블에서 노드를 하나씩 돌면서\n",
    "        cost = costs[node] # cost = {'a' : 6, 'b' : 2, fin : infinity}\n",
    "        if cost < lowest_cost and node not in processed: # 확인중인 노드의 비용이 최저 비용보다 낮고 그 노드가 처리되지 않은 노드일 때\n",
    "            lowest_cost = cost # 최저 비용 갱신\n",
    "            lowest_cost_node = node # 최저 비용 노드 갱신\n",
    "    \n",
    "    return lowest_cost_node\n",
    "\n",
    "\n",
    "node = find_lowest_cost_node(costs) # 아직 처리하지 않은 가장 싼 노드를 찾는다. # b\n",
    "# 모든 노드를 처리하면 반복문 종료\n",
    "while node is not None: \n",
    "    cost = costs[node] # cost = {'a' : 6, 'b' : 2, 'fin' : infinity}  # 초기 cost = costs[b] = 2\n",
    "    neighbors = graph[node] # neighbors = {'a' : {'fin' : 1}, 'b' : {'a': 3, 'fin': 5}, 'fin' : {} }\n",
    "    \n",
    "    for n in neighbors.keys(): # 모든 이웃에 대해 반복 [start][a] = 6 [start][b] = 2 [a][fin] = 1 [b][a] = 3 [b][fin] = 5\n",
    "        new_cost = cost + neighbors[n]\n",
    "        \n",
    "        if costs[n] > new_cost: # 새 노드를 지나는 것이 가격이 더 싸다면\n",
    "            costs[n] = new_cost # 노드의 가격을 새 노드의 가격으로 갱신\n",
    "            parents[n] = node # 부모를 이 노드로 새로 설정\n",
    "    \n",
    "    processed.append(node) # 노드를 처리한 사실을 기록\n",
    "    node = find_lowest_cost_node(costs) # 다음으로 처리할 노드를 찾아 반복\n",
    "    \n",
    "print('부모 테이블 (경로 이동) : ')\n",
    "print(parents)\n",
    "print('최단 거리 노드 비용은 : ')\n",
    "print(costs)\n",
    "\n",
    "# 출력결과\n",
    "# 부모 테이블 (경로 이동) : \n",
    "# {'a': 'b', 'b': 'start', 'fin': 'a'}\n",
    "# 최단 거리 노드 비용은 : \n",
    "# {'a': 5, 'b': 2, 'fin': 6}"
   ]
  }
 ],
 "metadata": {
  "kernelspec": {
   "display_name": "py36",
   "language": "python",
   "name": "py36"
  },
  "language_info": {
   "codemirror_mode": {
    "name": "ipython",
    "version": 3
   },
   "file_extension": ".py",
   "mimetype": "text/x-python",
   "name": "python",
   "nbconvert_exporter": "python",
   "pygments_lexer": "ipython3",
   "version": "3.6.9"
  }
 },
 "nbformat": 4,
 "nbformat_minor": 2
}
