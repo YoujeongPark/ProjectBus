{
 "cells": [
  {
   "cell_type": "code",
   "execution_count": 6,
   "metadata": {},
   "outputs": [],
   "source": [
    "graph = { 'A' : set(['C','B']), \n",
    "          'B' : set(['A','D','C','E']), \n",
    "          'C' : set(['A','D','B']), \n",
    "          'D' : set(['C','B','E']), \n",
    "          'E' : set(['D','B'])\n",
    "        }\n",
    "            "
   ]
  },
  {
   "cell_type": "code",
   "execution_count": 16,
   "metadata": {},
   "outputs": [
    {
     "ename": "AttributeError",
     "evalue": "'dict' object has no attribute 'key'",
     "output_type": "error",
     "traceback": [
      "\u001b[1;31m---------------------------------------------------------------------------\u001b[0m",
      "\u001b[1;31mAttributeError\u001b[0m                            Traceback (most recent call last)",
      "\u001b[1;32m<ipython-input-16-5ecce3470072>\u001b[0m in \u001b[0;36m<module>\u001b[1;34m\u001b[0m\n\u001b[1;32m----> 1\u001b[1;33m \u001b[0mtype\u001b[0m\u001b[1;33m(\u001b[0m\u001b[0mgraph\u001b[0m\u001b[1;33m.\u001b[0m\u001b[0mkey\u001b[0m\u001b[1;33m)\u001b[0m\u001b[1;33m\u001b[0m\u001b[1;33m\u001b[0m\u001b[0m\n\u001b[0m",
      "\u001b[1;31mAttributeError\u001b[0m: 'dict' object has no attribute 'key'"
     ]
    }
   ],
   "source": [
    "type(graph.key)"
   ]
  },
  {
   "cell_type": "code",
   "execution_count": null,
   "metadata": {},
   "outputs": [],
   "source": [
    "graph2 = { 'A' : {'C' : 3, 'B' : 4}, \n",
    "          'B' : {'A' : 3, 'D' :1, 'C':4, 'E' : 4},\n",
    "          'C' : {'A' : 4, 'D' : 3, 'B':4} ,\n",
    "          'D' : {'C' : 3, 'B' : 1, 'E' : 2 },\n",
    "          'E' : {'B' : 4, 'D' : 2}\n",
    "        }"
   ]
  },
  {
   "cell_type": "code",
   "execution_count": 17,
   "metadata": {},
   "outputs": [],
   "source": [
    "def dfs(graph, start, goal):\n",
    "    stack = [(start, [start])]\n",
    "    print(stack)\n",
    "    result = []\n",
    "\n",
    "    while stack:\n",
    "        n, path = stack.pop()\n",
    "        if n == goal:\n",
    "            if len(path) == 5:\n",
    "                result.append(path)\n",
    "        else:\n",
    "            for m in graph[n] - set(path):\n",
    "                stack.append((m, path + [m]))\n",
    "                \n",
    "    return result"
   ]
  },
  {
   "cell_type": "code",
   "execution_count": 18,
   "metadata": {},
   "outputs": [
    {
     "name": "stdout",
     "output_type": "stream",
     "text": [
      "[('A', ['A'])]\n"
     ]
    },
    {
     "data": {
      "text/plain": [
       "[['A', 'B', 'C', 'D', 'E'],\n",
       " ['A', 'C', 'B', 'D', 'E'],\n",
       " ['A', 'C', 'D', 'B', 'E']]"
      ]
     },
     "execution_count": 18,
     "metadata": {},
     "output_type": "execute_result"
    }
   ],
   "source": [
    "dfs(graph,'A','E')"
   ]
  },
  {
   "cell_type": "code",
   "execution_count": 20,
   "metadata": {},
   "outputs": [
    {
     "ename": "KeyError",
     "evalue": "0",
     "output_type": "error",
     "traceback": [
      "\u001b[1;31m---------------------------------------------------------------------------\u001b[0m",
      "\u001b[1;31mKeyError\u001b[0m                                  Traceback (most recent call last)",
      "\u001b[1;32m<ipython-input-20-4667d9b6ac94>\u001b[0m in \u001b[0;36m<module>\u001b[1;34m\u001b[0m\n\u001b[1;32m----> 1\u001b[1;33m \u001b[0mgraph2\u001b[0m\u001b[1;33m[\u001b[0m\u001b[1;36m0\u001b[0m\u001b[1;33m]\u001b[0m\u001b[1;33m\u001b[0m\u001b[1;33m\u001b[0m\u001b[0m\n\u001b[0m",
      "\u001b[1;31mKeyError\u001b[0m: 0"
     ]
    }
   ],
   "source": [
    "graph2[0]"
   ]
  },
  {
   "cell_type": "code",
   "execution_count": 22,
   "metadata": {},
   "outputs": [],
   "source": [
    "# -*- coding: 949 -*-\n",
    "import pandas as pd\n",
    "from collections import Counter\n",
    "import folium\n",
    "from folium.plugins import MarkerCluster, MiniMap\n",
    "from IPython.display import Image\n",
    "import math"
   ]
  },
  {
   "cell_type": "code",
   "execution_count": 23,
   "metadata": {},
   "outputs": [],
   "source": [
    "dfStart = pd.read_excel(\"서울시버스정류소좌표데이터(2020.03.06).xlsx\",sheet_name = \"출발\")"
   ]
  },
  {
   "cell_type": "code",
   "execution_count": 31,
   "metadata": {},
   "outputs": [
    {
     "data": {
      "text/html": [
       "<div>\n",
       "<style scoped>\n",
       "    .dataframe tbody tr th:only-of-type {\n",
       "        vertical-align: middle;\n",
       "    }\n",
       "\n",
       "    .dataframe tbody tr th {\n",
       "        vertical-align: top;\n",
       "    }\n",
       "\n",
       "    .dataframe thead th {\n",
       "        text-align: right;\n",
       "    }\n",
       "</style>\n",
       "<table border=\"1\" class=\"dataframe\">\n",
       "  <thead>\n",
       "    <tr style=\"text-align: right;\">\n",
       "      <th></th>\n",
       "      <th>표준ID</th>\n",
       "      <th>정류장번호</th>\n",
       "      <th>정류장명</th>\n",
       "      <th>X좌표</th>\n",
       "      <th>Y좌표</th>\n",
       "      <th>비고</th>\n",
       "    </tr>\n",
       "  </thead>\n",
       "  <tbody>\n",
       "    <tr>\n",
       "      <th>0</th>\n",
       "      <td>124000004</td>\n",
       "      <td>25104</td>\n",
       "      <td>고덕리엔파크1단지</td>\n",
       "      <td>127.170696</td>\n",
       "      <td>37.561365</td>\n",
       "      <td>NaN</td>\n",
       "    </tr>\n",
       "    <tr>\n",
       "      <th>1</th>\n",
       "      <td>124000006</td>\n",
       "      <td>25106</td>\n",
       "      <td>해뜨는주유소</td>\n",
       "      <td>127.170989</td>\n",
       "      <td>37.559757</td>\n",
       "      <td>NaN</td>\n",
       "    </tr>\n",
       "    <tr>\n",
       "      <th>2</th>\n",
       "      <td>124000009</td>\n",
       "      <td>25109</td>\n",
       "      <td>고덕주공3단지</td>\n",
       "      <td>127.172052</td>\n",
       "      <td>37.553467</td>\n",
       "      <td>NaN</td>\n",
       "    </tr>\n",
       "    <tr>\n",
       "      <th>3</th>\n",
       "      <td>124000031</td>\n",
       "      <td>25131</td>\n",
       "      <td>상일동역4번출구.고덕전통시장</td>\n",
       "      <td>127.168949</td>\n",
       "      <td>37.557111</td>\n",
       "      <td>NaN</td>\n",
       "    </tr>\n",
       "    <tr>\n",
       "      <th>4</th>\n",
       "      <td>124000033</td>\n",
       "      <td>25133</td>\n",
       "      <td>상일동역1번출구</td>\n",
       "      <td>127.164448</td>\n",
       "      <td>37.556588</td>\n",
       "      <td>NaN</td>\n",
       "    </tr>\n",
       "    <tr>\n",
       "      <th>5</th>\n",
       "      <td>124000035</td>\n",
       "      <td>25135</td>\n",
       "      <td>고덕그라시움</td>\n",
       "      <td>127.160832</td>\n",
       "      <td>37.556058</td>\n",
       "      <td>NaN</td>\n",
       "    </tr>\n",
       "    <tr>\n",
       "      <th>6</th>\n",
       "      <td>124000065</td>\n",
       "      <td>25165</td>\n",
       "      <td>상일동역2번출구</td>\n",
       "      <td>127.165125</td>\n",
       "      <td>37.557338</td>\n",
       "      <td>NaN</td>\n",
       "    </tr>\n",
       "    <tr>\n",
       "      <th>7</th>\n",
       "      <td>124000066</td>\n",
       "      <td>25166</td>\n",
       "      <td>상일동역2번출구</td>\n",
       "      <td>127.165424</td>\n",
       "      <td>37.557180</td>\n",
       "      <td>NaN</td>\n",
       "    </tr>\n",
       "    <tr>\n",
       "      <th>8</th>\n",
       "      <td>124000068</td>\n",
       "      <td>25168</td>\n",
       "      <td>고덕초등학교</td>\n",
       "      <td>127.165769</td>\n",
       "      <td>37.559983</td>\n",
       "      <td>NaN</td>\n",
       "    </tr>\n",
       "    <tr>\n",
       "      <th>9</th>\n",
       "      <td>124000070</td>\n",
       "      <td>25170</td>\n",
       "      <td>강덕초등학교.고덕그라시움</td>\n",
       "      <td>127.163152</td>\n",
       "      <td>37.560196</td>\n",
       "      <td>NaN</td>\n",
       "    </tr>\n",
       "    <tr>\n",
       "      <th>10</th>\n",
       "      <td>124000139</td>\n",
       "      <td>25250</td>\n",
       "      <td>고덕주공6단지상일여고</td>\n",
       "      <td>127.172061</td>\n",
       "      <td>37.550974</td>\n",
       "      <td>NaN</td>\n",
       "    </tr>\n",
       "    <tr>\n",
       "      <th>11</th>\n",
       "      <td>124000142</td>\n",
       "      <td>25253</td>\n",
       "      <td>상일동주민센터.롯데캐슬베네루체</td>\n",
       "      <td>127.168256</td>\n",
       "      <td>37.550289</td>\n",
       "      <td>NaN</td>\n",
       "    </tr>\n",
       "    <tr>\n",
       "      <th>12</th>\n",
       "      <td>124000403</td>\n",
       "      <td>25345</td>\n",
       "      <td>강명초등학교.고덕리엔파크3단지</td>\n",
       "      <td>127.173488</td>\n",
       "      <td>37.553937</td>\n",
       "      <td>NaN</td>\n",
       "    </tr>\n",
       "    <tr>\n",
       "      <th>13</th>\n",
       "      <td>124000412</td>\n",
       "      <td>25352</td>\n",
       "      <td>고덕리엔파크3단지서문</td>\n",
       "      <td>127.173848</td>\n",
       "      <td>37.551257</td>\n",
       "      <td>NaN</td>\n",
       "    </tr>\n",
       "    <tr>\n",
       "      <th>14</th>\n",
       "      <td>124000427</td>\n",
       "      <td>25365</td>\n",
       "      <td>고덕센트럴.고덕숲아이파크</td>\n",
       "      <td>127.165410</td>\n",
       "      <td>37.551012</td>\n",
       "      <td>NaN</td>\n",
       "    </tr>\n",
       "    <tr>\n",
       "      <th>15</th>\n",
       "      <td>124000425</td>\n",
       "      <td>25367</td>\n",
       "      <td>고현초등학교</td>\n",
       "      <td>127.165328</td>\n",
       "      <td>37.553041</td>\n",
       "      <td>NaN</td>\n",
       "    </tr>\n",
       "  </tbody>\n",
       "</table>\n",
       "</div>"
      ],
      "text/plain": [
       "         표준ID  정류장번호              정류장명         X좌표        Y좌표  비고\n",
       "0   124000004  25104         고덕리엔파크1단지  127.170696  37.561365 NaN\n",
       "1   124000006  25106            해뜨는주유소  127.170989  37.559757 NaN\n",
       "2   124000009  25109           고덕주공3단지  127.172052  37.553467 NaN\n",
       "3   124000031  25131   상일동역4번출구.고덕전통시장  127.168949  37.557111 NaN\n",
       "4   124000033  25133          상일동역1번출구  127.164448  37.556588 NaN\n",
       "5   124000035  25135            고덕그라시움  127.160832  37.556058 NaN\n",
       "6   124000065  25165          상일동역2번출구  127.165125  37.557338 NaN\n",
       "7   124000066  25166          상일동역2번출구  127.165424  37.557180 NaN\n",
       "8   124000068  25168            고덕초등학교  127.165769  37.559983 NaN\n",
       "9   124000070  25170     강덕초등학교.고덕그라시움  127.163152  37.560196 NaN\n",
       "10  124000139  25250       고덕주공6단지상일여고  127.172061  37.550974 NaN\n",
       "11  124000142  25253  상일동주민센터.롯데캐슬베네루체  127.168256  37.550289 NaN\n",
       "12  124000403  25345  강명초등학교.고덕리엔파크3단지  127.173488  37.553937 NaN\n",
       "13  124000412  25352       고덕리엔파크3단지서문  127.173848  37.551257 NaN\n",
       "14  124000427  25365     고덕센트럴.고덕숲아이파크  127.165410  37.551012 NaN\n",
       "15  124000425  25367            고현초등학교  127.165328  37.553041 NaN"
      ]
     },
     "execution_count": 31,
     "metadata": {},
     "output_type": "execute_result"
    }
   ],
   "source": [
    "dfStart"
   ]
  },
  {
   "cell_type": "code",
   "execution_count": 24,
   "metadata": {
    "scrolled": true
   },
   "outputs": [
    {
     "data": {
      "text/html": [
       "<div style=\"width:100%;\"><div style=\"position:relative;width:100%;height:0;padding-bottom:60%;\"><iframe src=\"about:blank\" style=\"position:absolute;width:100%;height:100%;left:0;top:0;border:none !important;\" data-html=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 onload=\"this.contentDocument.open();this.contentDocument.write(atob(this.getAttribute('data-html')));this.contentDocument.close();\" allowfullscreen webkitallowfullscreen mozallowfullscreen></iframe></div></div>"
      ],
      "text/plain": [
       "<folium.folium.Map at 0x134ae561b70>"
      ]
     },
     "execution_count": 24,
     "metadata": {},
     "output_type": "execute_result"
    }
   ],
   "source": [
    "map_79on = folium.Map(location = [37.553501, 127.165342], zoom_start = 15.2)\n",
    "mc = MarkerCluster()\n",
    "\n",
    "for row in dfStart.itertuples():\n",
    "    mc.add_child(folium.Marker(location = [row.Y좌표, row.X좌표], popup = row.정류장번호))\n",
    "    map_79on.add_child(mc)\n",
    "map_79on"
   ]
  },
  {
   "cell_type": "code",
   "execution_count": 48,
   "metadata": {},
   "outputs": [],
   "source": [
    "lineList = []\n",
    "for i in range(0,16):\n",
    "    t = (dfStart['정류장번호'][i],dfStart['Y좌표'][i],dfStart['X좌표'][i])\n",
    "    lineList.append(t)\n",
    "lats = [x[1] for x in lineList]\n",
    "lons = [x[2] for x in lineList]\n",
    "coordinates = zip(lats, lons)"
   ]
  },
  {
   "cell_type": "code",
   "execution_count": 49,
   "metadata": {},
   "outputs": [
    {
     "name": "stderr",
     "output_type": "stream",
     "text": [
      "D:\\99_file\\01_Anaconda\\envs\\py36_2\\lib\\site-packages\\ipykernel_launcher.py:4: FutureWarning: Method `add_children` is deprecated. Please use `add_child` instead.\n",
      "  after removing the cwd from sys.path.\n"
     ]
    },
    {
     "data": {
      "text/html": [
       "<div style=\"width:100%;\"><div style=\"position:relative;width:100%;height:0;padding-bottom:60%;\"><iframe src=\"about:blank\" style=\"position:absolute;width:100%;height:100%;left:0;top:0;border:none !important;\" data-html=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 onload=\"this.contentDocument.open();this.contentDocument.write(atob(this.getAttribute('data-html')));this.contentDocument.close();\" allowfullscreen webkitallowfullscreen mozallowfullscreen></iframe></div></div>"
      ],
      "text/plain": [
       "<folium.folium.Map at 0x134aeb0aef0>"
      ]
     },
     "execution_count": 49,
     "metadata": {},
     "output_type": "execute_result"
    }
   ],
   "source": [
    "m = folium.Map(location=[37.553501, 127.165342], zoom_start=15.2)\n",
    "# Create the map with the appoximate location of San Andreas Fault\n",
    "SAF=folium.PolyLine(locations=coordinates,weight=5,color = 'red')\n",
    "m.add_children(SAF)"
   ]
  },
  {
   "cell_type": "code",
   "execution_count": 38,
   "metadata": {},
   "outputs": [],
   "source": [
    "places_on_SAF = [('Point Delgada', 40.0215325, -124.0691973),\n",
    "('Point Arena', 38.9088, -123.6931),\n",
    "('Point Reyes', 38.0440, -122.7984),\n",
    "('Daly City', 37.6879, -122.4702),\n",
    "('Bautista', 36.8455, -121.5380),\n",
    "('Parkfield', 35.8997, -120.4327),\n",
    "('Cholame', 35.7239, -120.2965),\n",
    "('Bitter Creek National Wildlife Refuge', 34.9342, -119.4005),\n",
    "('Frazier Park', 34.8228, -118.9448),\n",
    "('Palmdale', 34.5794, -118.1165),\n",
    "('San Bernardino', 34.1083, -117.2898),\n",
    "('Desert Hot Springs', 33.9611, -116.5017),\n",
    "('Salton Sea State Recreation Area', 33.5088, -115.9181)]\n",
    "\n",
    "# get the coordinates for these places\n",
    "lats = [x[1] for x in places_on_SAF]\n",
    "lons = [x[2] for x in places_on_SAF]\n",
    "coordinates = zip(lats, lons)"
   ]
  },
  {
   "cell_type": "code",
   "execution_count": 39,
   "metadata": {},
   "outputs": [
    {
     "name": "stderr",
     "output_type": "stream",
     "text": [
      "D:\\99_file\\01_Anaconda\\envs\\py36_2\\lib\\site-packages\\ipykernel_launcher.py:4: FutureWarning: Method `add_children` is deprecated. Please use `add_child` instead.\n",
      "  after removing the cwd from sys.path.\n"
     ]
    },
    {
     "data": {
      "text/html": [
       "<div style=\"width:100%;\"><div style=\"position:relative;width:100%;height:0;padding-bottom:60%;\"><iframe src=\"about:blank\" style=\"position:absolute;width:100%;height:100%;left:0;top:0;border:none !important;\" data-html=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 onload=\"this.contentDocument.open();this.contentDocument.write(atob(this.getAttribute('data-html')));this.contentDocument.close();\" allowfullscreen webkitallowfullscreen mozallowfullscreen></iframe></div></div>"
      ],
      "text/plain": [
       "<folium.folium.Map at 0x134aeaaa470>"
      ]
     },
     "execution_count": 39,
     "metadata": {},
     "output_type": "execute_result"
    }
   ],
   "source": [
    "m = folium.Map(location=[36.5,-122], zoom_start=6, tiles='Stamen Terrain')\n",
    "# Create the map with the appoximate location of San Andreas Fault\n",
    "SAF=folium.PolyLine(locations=coordinates,weight=5,color = 'red')\n",
    "m.add_children(SAF)"
   ]
  },
  {
   "cell_type": "code",
   "execution_count": 30,
   "metadata": {},
   "outputs": [
    {
     "data": {
      "text/plain": [
       "tuple"
      ]
     },
     "execution_count": 30,
     "metadata": {},
     "output_type": "execute_result"
    }
   ],
   "source": []
  }
 ],
 "metadata": {
  "kernelspec": {
   "display_name": "py36_2",
   "language": "python",
   "name": "py36_2"
  },
  "language_info": {
   "codemirror_mode": {
    "name": "ipython",
    "version": 3
   },
   "file_extension": ".py",
   "mimetype": "text/x-python",
   "name": "python",
   "nbconvert_exporter": "python",
   "pygments_lexer": "ipython3",
   "version": "3.6.10"
  }
 },
 "nbformat": 4,
 "nbformat_minor": 2
}
